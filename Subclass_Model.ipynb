{
  "nbformat": 4,
  "nbformat_minor": 0,
  "metadata": {
    "colab": {
      "provenance": []
    },
    "kernelspec": {
      "name": "python3",
      "display_name": "Python 3"
    },
    "language_info": {
      "name": "python"
    }
  },
  "cells": [
    {
      "cell_type": "markdown",
      "source": [
        "# subclass API\n",
        "\n",
        "\n",
        "\n"
      ],
      "metadata": {
        "id": "huBRfKRNJ5BL"
      }
    },
    {
      "cell_type": "code",
      "execution_count": 70,
      "metadata": {
        "id": "ygY88DzjJ3Zb"
      },
      "outputs": [],
      "source": [
        "import tensorflow as tf\n",
        "import numpy as np\n",
        "from tensorflow import keras\n",
        "from sklearn.datasets import fetch_california_housing\n",
        "from sklearn.model_selection import train_test_split\n",
        "from sklearn.preprocessing import StandardScaler"
      ]
    },
    {
      "cell_type": "code",
      "source": [
        "dataset = fetch_california_housing()"
      ],
      "metadata": {
        "id": "Lxq-NNmjLix_"
      },
      "execution_count": 71,
      "outputs": []
    },
    {
      "cell_type": "code",
      "source": [
        "train_x0, test_x, train_y0, test_y = train_test_split(dataset.data, dataset.target)\n",
        "train_x, val_x, train_y, val_y = train_test_split(train_x0, train_y0, train_size=0.15)"
      ],
      "metadata": {
        "id": "QFKg3yVPLzF7"
      },
      "execution_count": 72,
      "outputs": []
    },
    {
      "cell_type": "code",
      "source": [
        "train_y.shape"
      ],
      "metadata": {
        "colab": {
          "base_uri": "https://localhost:8080/"
        },
        "id": "T96Zn_9-b220",
        "outputId": "7b4490cf-f5c9-4b4e-cae1-dacff3a79055"
      },
      "execution_count": 73,
      "outputs": [
        {
          "output_type": "execute_result",
          "data": {
            "text/plain": [
              "(2322,)"
            ]
          },
          "metadata": {},
          "execution_count": 73
        }
      ]
    },
    {
      "cell_type": "code",
      "source": [
        "S = StandardScaler()"
      ],
      "metadata": {
        "id": "PCNfM6CGMnly"
      },
      "execution_count": 74,
      "outputs": []
    },
    {
      "cell_type": "code",
      "source": [
        "train_x_s = S.fit_transform(train_x)\n",
        "test_x_s = S.fit_transform(test_x)\n",
        "val_x_s = S.fit_transform(val_x)"
      ],
      "metadata": {
        "id": "tLEHea2NM2FQ"
      },
      "execution_count": 75,
      "outputs": []
    },
    {
      "cell_type": "code",
      "source": [
        "train_x_s[1].shape"
      ],
      "metadata": {
        "colab": {
          "base_uri": "https://localhost:8080/"
        },
        "id": "1OfP5vwFWrXf",
        "outputId": "e976b722-b4cf-4d3f-8ce1-c6f4475dcade"
      },
      "execution_count": 76,
      "outputs": [
        {
          "output_type": "execute_result",
          "data": {
            "text/plain": [
              "(8,)"
            ]
          },
          "metadata": {},
          "execution_count": 76
        }
      ]
    },
    {
      "cell_type": "code",
      "source": [
        "input_1 = train_x_s[:,:6]\n",
        "input_2 = train_x_s[:,-4:]\n",
        "val_x_1 = val_x_s[:,:6]\n",
        "val_x_2 = val_x_s[:,-4:]\n",
        "test_1 = test_x_s[:,:6]\n",
        "test_2 = test_x_s[:,-4:]"
      ],
      "metadata": {
        "id": "uVbWnHNcWnId"
      },
      "execution_count": 77,
      "outputs": []
    },
    {
      "cell_type": "code",
      "source": [
        "class MY_MODEL(keras.Model):\n",
        "  def __init__(self, activation = 'relu', **kwargs):\n",
        "    super().__init__(**kwargs)\n",
        "    self.hiden_layer1 = keras.layers.Dense(50, activation= activation)\n",
        "    self.hiden_layer2 = keras.layers.Dense(10, activation= activation)\n",
        "    self.out_layer = keras.layers.Dense(1)\n",
        "    self.out_final = keras.layers.Dense(1)\n",
        "\n",
        "  def call(self, inputs):\n",
        "    input1, input2 = inputs\n",
        "    hiden1 = self.hiden_layer1(input1)\n",
        "    hiden2 = self.hiden_layer2(hiden1)\n",
        "    concat = keras.layers.concatenate([input2,hiden2])\n",
        "    out1 = self.out_layer(concat)\n",
        "    out2 = self.out_final(hiden2)\n",
        "\n",
        "    return out1,out2"
      ],
      "metadata": {
        "id": "f7URmIU2Ng07"
      },
      "execution_count": 82,
      "outputs": []
    },
    {
      "cell_type": "code",
      "source": [
        "model = MY_MODEL()"
      ],
      "metadata": {
        "id": "GafoLeBaYKx2"
      },
      "execution_count": 83,
      "outputs": []
    },
    {
      "cell_type": "code",
      "source": [
        "model.compile(loss='mean_squared_error', loss_weights=[0.8,0.2], optimizer='sgd', metrics=[\"mean_absolute_error\", \"mean_absolute_error\"])"
      ],
      "metadata": {
        "id": "563ETJamZa3w"
      },
      "execution_count": 86,
      "outputs": []
    },
    {
      "cell_type": "code",
      "source": [
        "model.fit((input_1,input_2),(train_y, train_y),epochs=15,validation_data=((val_x_1,val_x_2),(val_y, val_y)))"
      ],
      "metadata": {
        "colab": {
          "base_uri": "https://localhost:8080/"
        },
        "id": "u_vcg1plZpNI",
        "outputId": "81ebe4db-78b3-40e7-b8b1-f59838665dd5"
      },
      "execution_count": 87,
      "outputs": [
        {
          "output_type": "stream",
          "name": "stdout",
          "text": [
            "Epoch 1/15\n",
            "\u001b[1m73/73\u001b[0m \u001b[32m━━━━━━━━━━━━━━━━━━━━\u001b[0m\u001b[37m\u001b[0m \u001b[1m2s\u001b[0m 11ms/step - loss: 4.0090 - mean_absolute_error: 1.4643 - mean_absolute_error_1: 1.8790 - val_loss: 0.8659 - val_mean_absolute_error: 0.5767 - val_mean_absolute_error_1: 0.9887\n",
            "Epoch 2/15\n",
            "\u001b[1m73/73\u001b[0m \u001b[32m━━━━━━━━━━━━━━━━━━━━\u001b[0m\u001b[37m\u001b[0m \u001b[1m1s\u001b[0m 9ms/step - loss: 0.6901 - mean_absolute_error: 0.5449 - mean_absolute_error_1: 0.8542 - val_loss: 0.6582 - val_mean_absolute_error: 0.5462 - val_mean_absolute_error_1: 0.6581\n",
            "Epoch 3/15\n",
            "\u001b[1m73/73\u001b[0m \u001b[32m━━━━━━━━━━━━━━━━━━━━\u001b[0m\u001b[37m\u001b[0m \u001b[1m1s\u001b[0m 8ms/step - loss: 0.4705 - mean_absolute_error: 0.4827 - mean_absolute_error_1: 0.5901 - val_loss: 0.6241 - val_mean_absolute_error: 0.5338 - val_mean_absolute_error_1: 0.6257\n",
            "Epoch 4/15\n",
            "\u001b[1m73/73\u001b[0m \u001b[32m━━━━━━━━━━━━━━━━━━━━\u001b[0m\u001b[37m\u001b[0m \u001b[1m1s\u001b[0m 11ms/step - loss: 0.4657 - mean_absolute_error: 0.4820 - mean_absolute_error_1: 0.5802 - val_loss: 0.5982 - val_mean_absolute_error: 0.5363 - val_mean_absolute_error_1: 0.6144\n",
            "Epoch 5/15\n",
            "\u001b[1m73/73\u001b[0m \u001b[32m━━━━━━━━━━━━━━━━━━━━\u001b[0m\u001b[37m\u001b[0m \u001b[1m1s\u001b[0m 19ms/step - loss: 0.4495 - mean_absolute_error: 0.4872 - mean_absolute_error_1: 0.5609 - val_loss: 0.5908 - val_mean_absolute_error: 0.5239 - val_mean_absolute_error_1: 0.6031\n",
            "Epoch 6/15\n",
            "\u001b[1m73/73\u001b[0m \u001b[32m━━━━━━━━━━━━━━━━━━━━\u001b[0m\u001b[37m\u001b[0m \u001b[1m2s\u001b[0m 21ms/step - loss: 0.4394 - mean_absolute_error: 0.4789 - mean_absolute_error_1: 0.5696 - val_loss: 0.6183 - val_mean_absolute_error: 0.5254 - val_mean_absolute_error_1: 0.5984\n",
            "Epoch 7/15\n",
            "\u001b[1m73/73\u001b[0m \u001b[32m━━━━━━━━━━━━━━━━━━━━\u001b[0m\u001b[37m\u001b[0m \u001b[1m1s\u001b[0m 11ms/step - loss: 0.4799 - mean_absolute_error: 0.4920 - mean_absolute_error_1: 0.5775 - val_loss: 0.5863 - val_mean_absolute_error: 0.5175 - val_mean_absolute_error_1: 0.5908\n",
            "Epoch 8/15\n",
            "\u001b[1m73/73\u001b[0m \u001b[32m━━━━━━━━━━━━━━━━━━━━\u001b[0m\u001b[37m\u001b[0m \u001b[1m1s\u001b[0m 11ms/step - loss: 0.4545 - mean_absolute_error: 0.4764 - mean_absolute_error_1: 0.5700 - val_loss: 0.5720 - val_mean_absolute_error: 0.5197 - val_mean_absolute_error_1: 0.5866\n",
            "Epoch 9/15\n",
            "\u001b[1m73/73\u001b[0m \u001b[32m━━━━━━━━━━━━━━━━━━━━\u001b[0m\u001b[37m\u001b[0m \u001b[1m1s\u001b[0m 9ms/step - loss: 0.4205 - mean_absolute_error: 0.4670 - mean_absolute_error_1: 0.5476 - val_loss: 0.5769 - val_mean_absolute_error: 0.5145 - val_mean_absolute_error_1: 0.5828\n",
            "Epoch 10/15\n",
            "\u001b[1m73/73\u001b[0m \u001b[32m━━━━━━━━━━━━━━━━━━━━\u001b[0m\u001b[37m\u001b[0m \u001b[1m1s\u001b[0m 11ms/step - loss: 0.4260 - mean_absolute_error: 0.4602 - mean_absolute_error_1: 0.5506 - val_loss: 0.5751 - val_mean_absolute_error: 0.5167 - val_mean_absolute_error_1: 0.5811\n",
            "Epoch 11/15\n",
            "\u001b[1m73/73\u001b[0m \u001b[32m━━━━━━━━━━━━━━━━━━━━\u001b[0m\u001b[37m\u001b[0m \u001b[1m1s\u001b[0m 9ms/step - loss: 0.4035 - mean_absolute_error: 0.4476 - mean_absolute_error_1: 0.5389 - val_loss: 0.5805 - val_mean_absolute_error: 0.5121 - val_mean_absolute_error_1: 0.5766\n",
            "Epoch 12/15\n",
            "\u001b[1m73/73\u001b[0m \u001b[32m━━━━━━━━━━━━━━━━━━━━\u001b[0m\u001b[37m\u001b[0m \u001b[1m1s\u001b[0m 9ms/step - loss: 0.4253 - mean_absolute_error: 0.4623 - mean_absolute_error_1: 0.5533 - val_loss: 0.5721 - val_mean_absolute_error: 0.5102 - val_mean_absolute_error_1: 0.5735\n",
            "Epoch 13/15\n",
            "\u001b[1m73/73\u001b[0m \u001b[32m━━━━━━━━━━━━━━━━━━━━\u001b[0m\u001b[37m\u001b[0m \u001b[1m1s\u001b[0m 11ms/step - loss: 0.4005 - mean_absolute_error: 0.4506 - mean_absolute_error_1: 0.5279 - val_loss: 0.5876 - val_mean_absolute_error: 0.5121 - val_mean_absolute_error_1: 0.5732\n",
            "Epoch 14/15\n",
            "\u001b[1m73/73\u001b[0m \u001b[32m━━━━━━━━━━━━━━━━━━━━\u001b[0m\u001b[37m\u001b[0m \u001b[1m1s\u001b[0m 9ms/step - loss: 0.4525 - mean_absolute_error: 0.4726 - mean_absolute_error_1: 0.5493 - val_loss: 0.5743 - val_mean_absolute_error: 0.5123 - val_mean_absolute_error_1: 0.5696\n",
            "Epoch 15/15\n",
            "\u001b[1m73/73\u001b[0m \u001b[32m━━━━━━━━━━━━━━━━━━━━\u001b[0m\u001b[37m\u001b[0m \u001b[1m1s\u001b[0m 11ms/step - loss: 0.3875 - mean_absolute_error: 0.4457 - mean_absolute_error_1: 0.5189 - val_loss: 0.5658 - val_mean_absolute_error: 0.5079 - val_mean_absolute_error_1: 0.5681\n"
          ]
        },
        {
          "output_type": "execute_result",
          "data": {
            "text/plain": [
              "<keras.src.callbacks.history.History at 0x794d6467a170>"
            ]
          },
          "metadata": {},
          "execution_count": 87
        }
      ]
    },
    {
      "cell_type": "code",
      "source": [],
      "metadata": {
        "id": "2kUpCdJ8aP6I"
      },
      "execution_count": null,
      "outputs": []
    }
  ]
}