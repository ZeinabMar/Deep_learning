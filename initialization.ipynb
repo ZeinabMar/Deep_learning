{
  "nbformat": 4,
  "nbformat_minor": 0,
  "metadata": {
    "colab": {
      "provenance": [],
      "gpuType": "T4"
    },
    "kernelspec": {
      "name": "python3",
      "display_name": "Python 3"
    },
    "language_info": {
      "name": "python"
    },
    "accelerator": "GPU"
  },
  "cells": [
    {
      "cell_type": "code",
      "execution_count": 1,
      "metadata": {
        "id": "OEH2vQkpSiRf"
      },
      "outputs": [],
      "source": [
        "import tensorflow as tf\n",
        "from tensorflow import keras\n",
        "import matplotlib.pyplot as plt\n"
      ]
    },
    {
      "cell_type": "code",
      "source": [
        "dataset = keras.datasets.cifar10\n",
        "(x_train, y_train),(x_test,y_test) = dataset.load_data()"
      ],
      "metadata": {
        "colab": {
          "base_uri": "https://localhost:8080/"
        },
        "id": "KYtIv-mPTajf",
        "outputId": "9beeef0b-11bb-4553-b05c-cce216a77908"
      },
      "execution_count": 2,
      "outputs": [
        {
          "output_type": "stream",
          "name": "stdout",
          "text": [
            "Downloading data from https://www.cs.toronto.edu/~kriz/cifar-10-python.tar.gz\n",
            "\u001b[1m170498071/170498071\u001b[0m \u001b[32m━━━━━━━━━━━━━━━━━━━━\u001b[0m\u001b[37m\u001b[0m \u001b[1m3s\u001b[0m 0us/step\n"
          ]
        }
      ]
    },
    {
      "cell_type": "code",
      "source": [
        "plt.imshow(x_train[2])\n",
        "print(y_train[2])\n",
        "print(\"shape of input\",x_train[2].shape)\n",
        "print(\"shape of inputs\",x_train.shape)"
      ],
      "metadata": {
        "colab": {
          "base_uri": "https://localhost:8080/",
          "height": 482
        },
        "id": "4o_61dzgTyl-",
        "outputId": "504f22b6-5e76-41c4-f64b-1c02cd5d130e"
      },
      "execution_count": 17,
      "outputs": [
        {
          "output_type": "stream",
          "name": "stdout",
          "text": [
            "[9]\n",
            "shape of input (32, 32, 3)\n",
            "shape of inputs (50000, 32, 32, 3)\n"
          ]
        },
        {
          "output_type": "display_data",
          "data": {
            "text/plain": [
              "<Figure size 640x480 with 1 Axes>"
            ],
            "image/png": "[encoded data removed]"
          },
          "metadata": {}
        }
      ]
    },
    {
      "cell_type": "code",
      "source": [
        "model = keras.models.Sequential()\n",
        "model.add(keras.layers.Flatten(input_shape=[32,32,3]))\n",
        "model.add(keras.layers.Dense(50,activation='relu',kernel_initializer=keras.initializers.HeNormal))\n",
        "model.add(keras.layers.Dense(50, activation='relu', kernel_initializer=keras.initializers.HeNormal))\n",
        "model.add(keras.layers.Dense(10, activation='softmax', kernel_initializer=keras.initializers.GlorotNormal))\n"
      ],
      "metadata": {
        "id": "NebRtbMyT3Zr"
      },
      "execution_count": 21,
      "outputs": []
    },
    {
      "cell_type": "code",
      "source": [
        "model.compile(optimizer='sgd',loss='sparse_categorical_crossentropy',metrics=['accuracy'],)"
      ],
      "metadata": {
        "id": "kOkxMe5aWds5"
      },
      "execution_count": 22,
      "outputs": []
    },
    {
      "cell_type": "code",
      "source": [
        "history =  model.fit(x_train/255,y_train,epochs=20,validation_split=0.25)"
      ],
      "metadata": {
        "colab": {
          "base_uri": "https://localhost:8080/"
        },
        "id": "rqsaVHWsriL6",
        "outputId": "532ee451-0c3c-444d-b94e-581343472647"
      },
      "execution_count": 23,
      "outputs": [
        {
          "output_type": "stream",
          "name": "stdout",
          "text": [
            "Epoch 1/20\n",
            "\u001b[1m1172/1172\u001b[0m \u001b[32m━━━━━━━━━━━━━━━━━━━━\u001b[0m\u001b[37m\u001b[0m \u001b[1m5s\u001b[0m 4ms/step - accuracy: 0.2427 - loss: 2.0614 - val_accuracy: 0.3496 - val_loss: 1.8413\n",
            "Epoch 2/20\n",
            "\u001b[1m1172/1172\u001b[0m \u001b[32m━━━━━━━━━━━━━━━━━━━━\u001b[0m\u001b[37m\u001b[0m \u001b[1m4s\u001b[0m 4ms/step - accuracy: 0.3561 - loss: 1.7953 - val_accuracy: 0.3882 - val_loss: 1.7473\n",
            "Epoch 3/20\n",
            "\u001b[1m1172/1172\u001b[0m \u001b[32m━━━━━━━━━━━━━━━━━━━━\u001b[0m\u001b[37m\u001b[0m \u001b[1m4s\u001b[0m 3ms/step - accuracy: 0.3922 - loss: 1.7080 - val_accuracy: 0.3800 - val_loss: 1.7395\n",
            "Epoch 4/20\n",
            "\u001b[1m1172/1172\u001b[0m \u001b[32m━━━━━━━━━━━━━━━━━━━━\u001b[0m\u001b[37m\u001b[0m \u001b[1m6s\u001b[0m 4ms/step - accuracy: 0.4111 - loss: 1.6656 - val_accuracy: 0.4023 - val_loss: 1.6846\n",
            "Epoch 5/20\n",
            "\u001b[1m1172/1172\u001b[0m \u001b[32m━━━━━━━━━━━━━━━━━━━━\u001b[0m\u001b[37m\u001b[0m \u001b[1m3s\u001b[0m 3ms/step - accuracy: 0.4251 - loss: 1.6282 - val_accuracy: 0.4192 - val_loss: 1.6422\n",
            "Epoch 6/20\n",
            "\u001b[1m1172/1172\u001b[0m \u001b[32m━━━━━━━━━━━━━━━━━━━━\u001b[0m\u001b[37m\u001b[0m \u001b[1m5s\u001b[0m 3ms/step - accuracy: 0.4359 - loss: 1.5990 - val_accuracy: 0.4388 - val_loss: 1.5998\n",
            "Epoch 7/20\n",
            "\u001b[1m1172/1172\u001b[0m \u001b[32m━━━━━━━━━━━━━━━━━━━━\u001b[0m\u001b[37m\u001b[0m \u001b[1m6s\u001b[0m 4ms/step - accuracy: 0.4385 - loss: 1.5691 - val_accuracy: 0.4323 - val_loss: 1.6032\n",
            "Epoch 8/20\n",
            "\u001b[1m1172/1172\u001b[0m \u001b[32m━━━━━━━━━━━━━━━━━━━━\u001b[0m\u001b[37m\u001b[0m \u001b[1m4s\u001b[0m 3ms/step - accuracy: 0.4493 - loss: 1.5433 - val_accuracy: 0.4338 - val_loss: 1.5976\n",
            "Epoch 9/20\n",
            "\u001b[1m1172/1172\u001b[0m \u001b[32m━━━━━━━━━━━━━━━━━━━━\u001b[0m\u001b[37m\u001b[0m \u001b[1m3s\u001b[0m 3ms/step - accuracy: 0.4600 - loss: 1.5235 - val_accuracy: 0.4466 - val_loss: 1.5767\n",
            "Epoch 10/20\n",
            "\u001b[1m1172/1172\u001b[0m \u001b[32m━━━━━━━━━━━━━━━━━━━━\u001b[0m\u001b[37m\u001b[0m \u001b[1m5s\u001b[0m 3ms/step - accuracy: 0.4663 - loss: 1.5008 - val_accuracy: 0.4394 - val_loss: 1.5931\n",
            "Epoch 11/20\n",
            "\u001b[1m1172/1172\u001b[0m \u001b[32m━━━━━━━━━━━━━━━━━━━━\u001b[0m\u001b[37m\u001b[0m \u001b[1m4s\u001b[0m 3ms/step - accuracy: 0.4678 - loss: 1.4886 - val_accuracy: 0.4467 - val_loss: 1.5653\n",
            "Epoch 12/20\n",
            "\u001b[1m1172/1172\u001b[0m \u001b[32m━━━━━━━━━━━━━━━━━━━━\u001b[0m\u001b[37m\u001b[0m \u001b[1m8s\u001b[0m 5ms/step - accuracy: 0.4783 - loss: 1.4704 - val_accuracy: 0.4524 - val_loss: 1.5451\n",
            "Epoch 13/20\n",
            "\u001b[1m1172/1172\u001b[0m \u001b[32m━━━━━━━━━━━━━━━━━━━━\u001b[0m\u001b[37m\u001b[0m \u001b[1m4s\u001b[0m 3ms/step - accuracy: 0.4836 - loss: 1.4481 - val_accuracy: 0.4501 - val_loss: 1.5462\n",
            "Epoch 14/20\n",
            "\u001b[1m1172/1172\u001b[0m \u001b[32m━━━━━━━━━━━━━━━━━━━━\u001b[0m\u001b[37m\u001b[0m \u001b[1m4s\u001b[0m 3ms/step - accuracy: 0.4822 - loss: 1.4479 - val_accuracy: 0.4606 - val_loss: 1.5222\n",
            "Epoch 15/20\n",
            "\u001b[1m1172/1172\u001b[0m \u001b[32m━━━━━━━━━━━━━━━━━━━━\u001b[0m\u001b[37m\u001b[0m \u001b[1m6s\u001b[0m 4ms/step - accuracy: 0.4951 - loss: 1.4251 - val_accuracy: 0.4639 - val_loss: 1.5222\n",
            "Epoch 16/20\n",
            "\u001b[1m1172/1172\u001b[0m \u001b[32m━━━━━━━━━━━━━━━━━━━━\u001b[0m\u001b[37m\u001b[0m \u001b[1m4s\u001b[0m 3ms/step - accuracy: 0.4912 - loss: 1.4247 - val_accuracy: 0.4694 - val_loss: 1.5234\n",
            "Epoch 17/20\n",
            "\u001b[1m1172/1172\u001b[0m \u001b[32m━━━━━━━━━━━━━━━━━━━━\u001b[0m\u001b[37m\u001b[0m \u001b[1m5s\u001b[0m 3ms/step - accuracy: 0.5029 - loss: 1.4100 - val_accuracy: 0.4550 - val_loss: 1.5537\n",
            "Epoch 18/20\n",
            "\u001b[1m1172/1172\u001b[0m \u001b[32m━━━━━━━━━━━━━━━━━━━━\u001b[0m\u001b[37m\u001b[0m \u001b[1m5s\u001b[0m 4ms/step - accuracy: 0.4983 - loss: 1.3954 - val_accuracy: 0.4695 - val_loss: 1.4924\n",
            "Epoch 19/20\n",
            "\u001b[1m1172/1172\u001b[0m \u001b[32m━━━━━━━━━━━━━━━━━━━━\u001b[0m\u001b[37m\u001b[0m \u001b[1m3s\u001b[0m 3ms/step - accuracy: 0.5064 - loss: 1.3907 - val_accuracy: 0.4442 - val_loss: 1.5615\n",
            "Epoch 20/20\n",
            "\u001b[1m1172/1172\u001b[0m \u001b[32m━━━━━━━━━━━━━━━━━━━━\u001b[0m\u001b[37m\u001b[0m \u001b[1m4s\u001b[0m 4ms/step - accuracy: 0.5122 - loss: 1.3746 - val_accuracy: 0.4591 - val_loss: 1.5277\n"
          ]
        }
      ]
    },
    {
      "cell_type": "code",
      "source": [
        "print(\"Weight of first layer\",model.get_weights()[0])\n",
        "print(\"Weight of second layer\",model.get_weights()[1])"
      ],
      "metadata": {
        "colab": {
          "base_uri": "https://localhost:8080/"
        },
        "id": "dhHfb8NdvZ9i",
        "outputId": "8b9eb978-3084-4aeb-fbd6-ed11c0a76492"
      },
      "execution_count": 29,
      "outputs": [
        {
          "output_type": "stream",
          "name": "stdout",
          "text": [
            "Weight of first layer [[-0.04171525  0.00375143  0.0035846  ...  0.00157344  0.02703832\n",
            "   0.04159953]\n",
            " [-0.04657094  0.03346564  0.03321131 ... -0.02020342  0.00715141\n",
            "   0.02490634]\n",
            " [ 0.01196236  0.10910001 -0.02351115 ...  0.04208582 -0.12150585\n",
            "   0.03902117]\n",
            " ...\n",
            " [ 0.04484358  0.03762205 -0.02357758 ...  0.01040757  0.00672074\n",
            "   0.06629488]\n",
            " [ 0.01669437  0.01487888  0.01392923 ... -0.04488687 -0.04826415\n",
            "   0.04908357]\n",
            " [ 0.03478539 -0.00593483  0.01245235 ... -0.03203257 -0.07314286\n",
            "  -0.01910647]]\n",
            "Weight of second layer [ 1.67396907e-02 -1.24102600e-01 -1.13717295e-04 -1.48417745e-02\n",
            "  1.21933315e-02 -1.48999225e-03  1.92607641e-01 -1.77798882e-01\n",
            " -6.41295463e-02 -1.61862433e-01 -3.03981900e-01 -8.05548206e-02\n",
            "  1.19116232e-02  4.20112908e-02  5.11628129e-02 -1.45338356e-01\n",
            "  7.34532103e-02  4.74647492e-01 -1.62660284e-03  8.17249343e-02\n",
            " -2.89766997e-01 -4.98185828e-02 -1.97907776e-01  4.73206341e-02\n",
            " -3.28697786e-02  3.91099462e-03  8.33500028e-02  2.91535649e-02\n",
            "  5.91459237e-02  1.00436350e-02 -6.95554465e-02 -2.26896241e-01\n",
            "  1.96497850e-02 -2.72371154e-02 -6.70494437e-02  1.33689374e-01\n",
            " -3.46380658e-02  8.52536131e-03 -1.15841821e-01  1.30606249e-01\n",
            " -2.25824684e-01 -5.01836839e-05  1.95825378e-05  1.06280759e-01\n",
            " -7.34726414e-02  3.65372840e-03 -2.52887164e-03 -3.83730046e-03\n",
            "  4.23254192e-01  8.53288397e-02]\n"
          ]
        }
      ]
    },
    {
      "cell_type": "markdown",
      "source": [
        "#initializing with zero"
      ],
      "metadata": {
        "id": "leIkWp07w5ND"
      }
    },
    {
      "cell_type": "code",
      "source": [
        "model = keras.models.Sequential()\n",
        "model.add(keras.layers.Flatten(input_shape=[32,32,3]))\n",
        "model.add(keras.layers.Dense(50,activation='relu',kernel_initializer=keras.initializers.Zeros))\n",
        "model.add(keras.layers.Dense(50, activation='relu', kernel_initializer=keras.initializers.Zeros))\n",
        "model.add(keras.layers.Dense(10, activation='softmax', kernel_initializer=keras.initializers.Zeros))\n"
      ],
      "metadata": {
        "colab": {
          "base_uri": "https://localhost:8080/"
        },
        "id": "BbIWh9qewQyF",
        "outputId": "aabea0a1-5db2-4ae8-c468-c16aaf034caf"
      },
      "execution_count": 30,
      "outputs": [
        {
          "output_type": "stream",
          "name": "stderr",
          "text": [
            "/usr/local/lib/python3.10/dist-packages/keras/src/layers/reshaping/flatten.py:37: UserWarning: Do not pass an `input_shape`/`input_dim` argument to a layer. When using Sequential models, prefer using an `Input(shape)` object as the first layer in the model instead.\n",
            "  super().__init__(**kwargs)\n"
          ]
        }
      ]
    },
    {
      "cell_type": "code",
      "source": [
        "model.compile(optimizer='sgd',loss='sparse_categorical_crossentropy',metrics=['accuracy'],)"
      ],
      "metadata": {
        "id": "SIkcFAZyxQBb"
      },
      "execution_count": 31,
      "outputs": []
    },
    {
      "cell_type": "code",
      "source": [
        "history =  model.fit(x_train/255,y_train,epochs=20,validation_split=0.25)"
      ],
      "metadata": {
        "colab": {
          "base_uri": "https://localhost:8080/"
        },
        "id": "YKxt63zKxTB_",
        "outputId": "31b8585b-bc50-4b04-a992-ba9996445bb8"
      },
      "execution_count": 32,
      "outputs": [
        {
          "output_type": "stream",
          "name": "stdout",
          "text": [
            "Epoch 1/20\n",
            "\u001b[1m1172/1172\u001b[0m \u001b[32m━━━━━━━━━━━━━━━━━━━━\u001b[0m\u001b[37m\u001b[0m \u001b[1m6s\u001b[0m 5ms/step - accuracy: 0.0981 - loss: 2.3027 - val_accuracy: 0.0952 - val_loss: 2.3027\n",
            "Epoch 2/20\n",
            "\u001b[1m1172/1172\u001b[0m \u001b[32m━━━━━━━━━━━━━━━━━━━━\u001b[0m\u001b[37m\u001b[0m \u001b[1m8s\u001b[0m 3ms/step - accuracy: 0.0988 - loss: 2.3027 - val_accuracy: 0.0952 - val_loss: 2.3027\n",
            "Epoch 3/20\n",
            "\u001b[1m1172/1172\u001b[0m \u001b[32m━━━━━━━━━━━━━━━━━━━━\u001b[0m\u001b[37m\u001b[0m \u001b[1m6s\u001b[0m 3ms/step - accuracy: 0.1013 - loss: 2.3026 - val_accuracy: 0.0952 - val_loss: 2.3027\n",
            "Epoch 4/20\n",
            "\u001b[1m1172/1172\u001b[0m \u001b[32m━━━━━━━━━━━━━━━━━━━━\u001b[0m\u001b[37m\u001b[0m \u001b[1m5s\u001b[0m 3ms/step - accuracy: 0.0985 - loss: 2.3027 - val_accuracy: 0.0952 - val_loss: 2.3028\n",
            "Epoch 5/20\n",
            "\u001b[1m1172/1172\u001b[0m \u001b[32m━━━━━━━━━━━━━━━━━━━━\u001b[0m\u001b[37m\u001b[0m \u001b[1m5s\u001b[0m 4ms/step - accuracy: 0.1022 - loss: 2.3026 - val_accuracy: 0.0952 - val_loss: 2.3027\n",
            "Epoch 6/20\n",
            "\u001b[1m1172/1172\u001b[0m \u001b[32m━━━━━━━━━━━━━━━━━━━━\u001b[0m\u001b[37m\u001b[0m \u001b[1m5s\u001b[0m 4ms/step - accuracy: 0.0985 - loss: 2.3026 - val_accuracy: 0.0952 - val_loss: 2.3027\n",
            "Epoch 7/20\n",
            "\u001b[1m1172/1172\u001b[0m \u001b[32m━━━━━━━━━━━━━━━━━━━━\u001b[0m\u001b[37m\u001b[0m \u001b[1m10s\u001b[0m 4ms/step - accuracy: 0.1019 - loss: 2.3027 - val_accuracy: 0.0952 - val_loss: 2.3028\n",
            "Epoch 8/20\n",
            "\u001b[1m1172/1172\u001b[0m \u001b[32m━━━━━━━━━━━━━━━━━━━━\u001b[0m\u001b[37m\u001b[0m \u001b[1m4s\u001b[0m 3ms/step - accuracy: 0.1006 - loss: 2.3027 - val_accuracy: 0.0952 - val_loss: 2.3028\n",
            "Epoch 9/20\n",
            "\u001b[1m1172/1172\u001b[0m \u001b[32m━━━━━━━━━━━━━━━━━━━━\u001b[0m\u001b[37m\u001b[0m \u001b[1m6s\u001b[0m 5ms/step - accuracy: 0.1000 - loss: 2.3027 - val_accuracy: 0.0952 - val_loss: 2.3028\n",
            "Epoch 10/20\n",
            "\u001b[1m1172/1172\u001b[0m \u001b[32m━━━━━━━━━━━━━━━━━━━━\u001b[0m\u001b[37m\u001b[0m \u001b[1m8s\u001b[0m 3ms/step - accuracy: 0.0998 - loss: 2.3027 - val_accuracy: 0.0952 - val_loss: 2.3028\n",
            "Epoch 11/20\n",
            "\u001b[1m1172/1172\u001b[0m \u001b[32m━━━━━━━━━━━━━━━━━━━━\u001b[0m\u001b[37m\u001b[0m \u001b[1m7s\u001b[0m 4ms/step - accuracy: 0.1023 - loss: 2.3025 - val_accuracy: 0.0952 - val_loss: 2.3027\n",
            "Epoch 12/20\n",
            "\u001b[1m1172/1172\u001b[0m \u001b[32m━━━━━━━━━━━━━━━━━━━━\u001b[0m\u001b[37m\u001b[0m \u001b[1m4s\u001b[0m 3ms/step - accuracy: 0.1039 - loss: 2.3026 - val_accuracy: 0.0952 - val_loss: 2.3027\n",
            "Epoch 13/20\n",
            "\u001b[1m1172/1172\u001b[0m \u001b[32m━━━━━━━━━━━━━━━━━━━━\u001b[0m\u001b[37m\u001b[0m \u001b[1m4s\u001b[0m 3ms/step - accuracy: 0.1030 - loss: 2.3026 - val_accuracy: 0.0986 - val_loss: 2.3027\n",
            "Epoch 14/20\n",
            "\u001b[1m1172/1172\u001b[0m \u001b[32m━━━━━━━━━━━━━━━━━━━━\u001b[0m\u001b[37m\u001b[0m \u001b[1m6s\u001b[0m 4ms/step - accuracy: 0.1030 - loss: 2.3026 - val_accuracy: 0.0952 - val_loss: 2.3028\n",
            "Epoch 15/20\n",
            "\u001b[1m1172/1172\u001b[0m \u001b[32m━━━━━━━━━━━━━━━━━━━━\u001b[0m\u001b[37m\u001b[0m \u001b[1m4s\u001b[0m 3ms/step - accuracy: 0.1019 - loss: 2.3027 - val_accuracy: 0.0952 - val_loss: 2.3028\n",
            "Epoch 16/20\n",
            "\u001b[1m1172/1172\u001b[0m \u001b[32m━━━━━━━━━━━━━━━━━━━━\u001b[0m\u001b[37m\u001b[0m \u001b[1m5s\u001b[0m 3ms/step - accuracy: 0.1037 - loss: 2.3026 - val_accuracy: 0.0952 - val_loss: 2.3027\n",
            "Epoch 17/20\n",
            "\u001b[1m1172/1172\u001b[0m \u001b[32m━━━━━━━━━━━━━━━━━━━━\u001b[0m\u001b[37m\u001b[0m \u001b[1m5s\u001b[0m 3ms/step - accuracy: 0.1034 - loss: 2.3027 - val_accuracy: 0.0986 - val_loss: 2.3027\n",
            "Epoch 18/20\n",
            "\u001b[1m1172/1172\u001b[0m \u001b[32m━━━━━━━━━━━━━━━━━━━━\u001b[0m\u001b[37m\u001b[0m \u001b[1m5s\u001b[0m 3ms/step - accuracy: 0.0977 - loss: 2.3026 - val_accuracy: 0.0952 - val_loss: 2.3027\n",
            "Epoch 19/20\n",
            "\u001b[1m1172/1172\u001b[0m \u001b[32m━━━━━━━━━━━━━━━━━━━━\u001b[0m\u001b[37m\u001b[0m \u001b[1m5s\u001b[0m 5ms/step - accuracy: 0.0990 - loss: 2.3027 - val_accuracy: 0.0952 - val_loss: 2.3027\n",
            "Epoch 20/20\n",
            "\u001b[1m1172/1172\u001b[0m \u001b[32m━━━━━━━━━━━━━━━━━━━━\u001b[0m\u001b[37m\u001b[0m \u001b[1m4s\u001b[0m 3ms/step - accuracy: 0.1008 - loss: 2.3027 - val_accuracy: 0.0952 - val_loss: 2.3028\n"
          ]
        }
      ]
    },
    {
      "cell_type": "code",
      "source": [
        "print(\"Weight of first layer\",model.get_weights()[0])\n",
        "print(\"Weight of second layer\",model.get_weights()[1])"
      ],
      "metadata": {
        "colab": {
          "base_uri": "https://localhost:8080/"
        },
        "id": "4otJXyMKxXPN",
        "outputId": "7742c14d-3ee8-402c-fa21-a9c7fec63226"
      },
      "execution_count": 33,
      "outputs": [
        {
          "output_type": "stream",
          "name": "stdout",
          "text": [
            "Weight of first layer [[0. 0. 0. ... 0. 0. 0.]\n",
            " [0. 0. 0. ... 0. 0. 0.]\n",
            " [0. 0. 0. ... 0. 0. 0.]\n",
            " ...\n",
            " [0. 0. 0. ... 0. 0. 0.]\n",
            " [0. 0. 0. ... 0. 0. 0.]\n",
            " [0. 0. 0. ... 0. 0. 0.]]\n",
            "Weight of second layer [0. 0. 0. 0. 0. 0. 0. 0. 0. 0. 0. 0. 0. 0. 0. 0. 0. 0. 0. 0. 0. 0. 0. 0.\n",
            " 0. 0. 0. 0. 0. 0. 0. 0. 0. 0. 0. 0. 0. 0. 0. 0. 0. 0. 0. 0. 0. 0. 0. 0.\n",
            " 0. 0.]\n"
          ]
        }
      ]
    },
    {
      "cell_type": "code",
      "source": [
        "x_test[1]"
      ],
      "metadata": {
        "colab": {
          "base_uri": "https://localhost:8080/",
          "height": 73
        },
        "id": "X7qDSGy8yLy2",
        "outputId": "0a0786d0-af72-4f87-aa25-592e4cacccb8"
      },
      "execution_count": 38,
      "outputs": [
        {
          "output_type": "execute_result",
          "data": {
            "text/plain": [
              "array([[[235, 235, 235],\n",
              "        [231, 231, 231],\n",
              "        [232, 232, 232],\n",
              "        ...,\n",
              "        [233, 233, 233],\n",
              "        [233, 233, 233],\n",
              "        [232, 232, 232]],\n",
              "\n",
              "       [[238, 238, 238],\n",
              "        [235, 235, 235],\n",
              "        [235, 235, 235],\n",
              "        ...,\n",
              "        [236, 236, 236],\n",
              "        [236, 236, 236],\n",
              "        [235, 235, 235]],\n",
              "\n",
              "       [[237, 237, 237],\n",
              "        [234, 234, 234],\n",
              "        [234, 234, 234],\n",
              "        ...,\n",
              "        [235, 235, 235],\n",
              "        [235, 235, 235],\n",
              "        [234, 234, 234]],\n",
              "\n",
              "       ...,\n",
              "\n",
              "       [[ 87,  99,  89],\n",
              "        [ 43,  51,  37],\n",
              "        [ 19,  23,  11],\n",
              "        ...,\n",
              "        [169, 184, 179],\n",
              "        [182, 197, 193],\n",
              "        [188, 202, 201]],\n",
              "\n",
              "       [[ 82,  96,  82],\n",
              "        [ 46,  57,  36],\n",
              "        [ 36,  44,  22],\n",
              "        ...,\n",
              "        [174, 189, 183],\n",
              "        [185, 200, 196],\n",
              "        [187, 202, 200]],\n",
              "\n",
              "       [[ 85, 101,  83],\n",
              "        [ 62,  75,  48],\n",
              "        [ 58,  67,  38],\n",
              "        ...,\n",
              "        [168, 183, 178],\n",
              "        [180, 195, 191],\n",
              "        [186, 200, 199]]], dtype=uint8)"
            ],
            "text/html": [
              "<style>\n",
              "      .ndarray_repr .ndarray_raw_data {\n",
              "        display: none;\n",
              "      }\n",
              "      .ndarray_repr.show_array .ndarray_raw_data {\n",
              "        display: block;\n",
              "      }\n",
              "      .ndarray_repr.show_array .ndarray_image_preview {\n",
              "        display: none;\n",
              "      }\n",
              "      </style>\n",
              "      <div id=\"id-1bc42c9a-676d-441a-bc12-b2a182695ace\" class=\"ndarray_repr\"><pre>ndarray (32, 32, 3) <button style=\"padding: 0 2px;\">show data</button></pre><img src=\"data:image/png;base64,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\" class=\"ndarray_image_preview\" /><pre class=\"ndarray_raw_data\">array([[[235, 235, 235],\n",
              "        [231, 231, 231],\n",
              "        [232, 232, 232],\n",
              "        ...,\n",
              "        [233, 233, 233],\n",
              "        [233, 233, 233],\n",
              "        [232, 232, 232]],\n",
              "\n",
              "       [[238, 238, 238],\n",
              "        [235, 235, 235],\n",
              "        [235, 235, 235],\n",
              "        ...,\n",
              "        [236, 236, 236],\n",
              "        [236, 236, 236],\n",
              "        [235, 235, 235]],\n",
              "\n",
              "       [[237, 237, 237],\n",
              "        [234, 234, 234],\n",
              "        [234, 234, 234],\n",
              "        ...,\n",
              "        [235, 235, 235],\n",
              "        [235, 235, 235],\n",
              "        [234, 234, 234]],\n",
              "\n",
              "       ...,\n",
              "\n",
              "       [[ 87,  99,  89],\n",
              "        [ 43,  51,  37],\n",
              "        [ 19,  23,  11],\n",
              "        ...,\n",
              "        [169, 184, 179],\n",
              "        [182, 197, 193],\n",
              "        [188, 202, 201]],\n",
              "\n",
              "       [[ 82,  96,  82],\n",
              "        [ 46,  57,  36],\n",
              "        [ 36,  44,  22],\n",
              "        ...,\n",
              "        [174, 189, 183],\n",
              "        [185, 200, 196],\n",
              "        [187, 202, 200]],\n",
              "\n",
              "       [[ 85, 101,  83],\n",
              "        [ 62,  75,  48],\n",
              "        [ 58,  67,  38],\n",
              "        ...,\n",
              "        [168, 183, 178],\n",
              "        [180, 195, 191],\n",
              "        [186, 200, 199]]], dtype=uint8)</pre></div><script>\n",
              "      (() => {\n",
              "      const titles = ['show data', 'hide data'];\n",
              "      let index = 0\n",
              "      document.querySelector('#id-1bc42c9a-676d-441a-bc12-b2a182695ace button').onclick = (e) => {\n",
              "        document.querySelector('#id-1bc42c9a-676d-441a-bc12-b2a182695ace').classList.toggle('show_array');\n",
              "        index = (++index) % 2;\n",
              "        document.querySelector('#id-1bc42c9a-676d-441a-bc12-b2a182695ace button').textContent = titles[index];\n",
              "        e.preventDefault();\n",
              "        e.stopPropagation();\n",
              "      }\n",
              "      })();\n",
              "    </script>"
            ]
          },
          "metadata": {},
          "execution_count": 38
        }
      ]
    },
    {
      "cell_type": "code",
      "source": [
        "y_hat_1= model.predict(x_test[1]/255)"
      ],
      "metadata": {
        "colab": {
          "base_uri": "https://localhost:8080/",
          "height": 443
        },
        "id": "vP34rUUYx2Ki",
        "outputId": "7a64256b-dcb1-4642-ab26-5f03a9b9caa2"
      },
      "execution_count": 39,
      "outputs": [
        {
          "output_type": "error",
          "ename": "ValueError",
          "evalue": "Exception encountered when calling Sequential.call().\n\n\u001b[1mInvalid input shape for input Tensor(\"data:0\", shape=(32, 32, 3), dtype=float32). Expected shape (None, 32, 32, 3), but input has incompatible shape (32, 32, 3)\u001b[0m\n\nArguments received by Sequential.call():\n  • inputs=tf.Tensor(shape=(32, 32, 3), dtype=float32)\n  • training=False\n  • mask=None",
          "traceback": [
            "\u001b[0;31m---------------------------------------------------------------------------\u001b[0m",
            "\u001b[0;31mValueError\u001b[0m                                Traceback (most recent call last)",
            "\u001b[0;32m<ipython-input-39-d4b5ef8142f1>\u001b[0m in \u001b[0;36m<cell line: 1>\u001b[0;34m()\u001b[0m\n\u001b[0;32m----> 1\u001b[0;31m \u001b[0my_hat_1\u001b[0m\u001b[0;34m=\u001b[0m \u001b[0mmodel\u001b[0m\u001b[0;34m.\u001b[0m\u001b[0mpredict\u001b[0m\u001b[0;34m(\u001b[0m\u001b[0mx_test\u001b[0m\u001b[0;34m[\u001b[0m\u001b[0;36m1\u001b[0m\u001b[0;34m]\u001b[0m\u001b[0;34m/\u001b[0m\u001b[0;36m255\u001b[0m\u001b[0;34m)\u001b[0m\u001b[0;34m\u001b[0m\u001b[0;34m\u001b[0m\u001b[0m\n\u001b[0m",
            "\u001b[0;32m/usr/local/lib/python3.10/dist-packages/keras/src/utils/traceback_utils.py\u001b[0m in \u001b[0;36merror_handler\u001b[0;34m(*args, **kwargs)\u001b[0m\n\u001b[1;32m    120\u001b[0m             \u001b[0;31m# To get the full stack trace, call:\u001b[0m\u001b[0;34m\u001b[0m\u001b[0;34m\u001b[0m\u001b[0m\n\u001b[1;32m    121\u001b[0m             \u001b[0;31m# `keras.config.disable_traceback_filtering()`\u001b[0m\u001b[0;34m\u001b[0m\u001b[0;34m\u001b[0m\u001b[0m\n\u001b[0;32m--> 122\u001b[0;31m             \u001b[0;32mraise\u001b[0m \u001b[0me\u001b[0m\u001b[0;34m.\u001b[0m\u001b[0mwith_traceback\u001b[0m\u001b[0;34m(\u001b[0m\u001b[0mfiltered_tb\u001b[0m\u001b[0;34m)\u001b[0m \u001b[0;32mfrom\u001b[0m \u001b[0;32mNone\u001b[0m\u001b[0;34m\u001b[0m\u001b[0;34m\u001b[0m\u001b[0m\n\u001b[0m\u001b[1;32m    123\u001b[0m         \u001b[0;32mfinally\u001b[0m\u001b[0;34m:\u001b[0m\u001b[0;34m\u001b[0m\u001b[0;34m\u001b[0m\u001b[0m\n\u001b[1;32m    124\u001b[0m             \u001b[0;32mdel\u001b[0m \u001b[0mfiltered_tb\u001b[0m\u001b[0;34m\u001b[0m\u001b[0;34m\u001b[0m\u001b[0m\n",
            "\u001b[0;32m/usr/local/lib/python3.10/dist-packages/keras/src/models/functional.py\u001b[0m in \u001b[0;36m_adjust_input_rank\u001b[0;34m(self, flat_inputs)\u001b[0m\n\u001b[1;32m    242\u001b[0m                     \u001b[0madjusted\u001b[0m\u001b[0;34m.\u001b[0m\u001b[0mappend\u001b[0m\u001b[0;34m(\u001b[0m\u001b[0mops\u001b[0m\u001b[0;34m.\u001b[0m\u001b[0mexpand_dims\u001b[0m\u001b[0;34m(\u001b[0m\u001b[0mx\u001b[0m\u001b[0;34m,\u001b[0m \u001b[0maxis\u001b[0m\u001b[0;34m=\u001b[0m\u001b[0;34m-\u001b[0m\u001b[0;36m1\u001b[0m\u001b[0;34m)\u001b[0m\u001b[0;34m)\u001b[0m\u001b[0;34m\u001b[0m\u001b[0;34m\u001b[0m\u001b[0m\n\u001b[1;32m    243\u001b[0m                     \u001b[0;32mcontinue\u001b[0m\u001b[0;34m\u001b[0m\u001b[0;34m\u001b[0m\u001b[0m\n\u001b[0;32m--> 244\u001b[0;31m             raise ValueError(\n\u001b[0m\u001b[1;32m    245\u001b[0m                 \u001b[0;34mf\"Invalid input shape for input {x}. Expected shape \"\u001b[0m\u001b[0;34m\u001b[0m\u001b[0;34m\u001b[0m\u001b[0m\n\u001b[1;32m    246\u001b[0m                 \u001b[0;34mf\"{ref_shape}, but input has incompatible shape {x.shape}\"\u001b[0m\u001b[0;34m\u001b[0m\u001b[0;34m\u001b[0m\u001b[0m\n",
            "\u001b[0;31mValueError\u001b[0m: Exception encountered when calling Sequential.call().\n\n\u001b[1mInvalid input shape for input Tensor(\"data:0\", shape=(32, 32, 3), dtype=float32). Expected shape (None, 32, 32, 3), but input has incompatible shape (32, 32, 3)\u001b[0m\n\nArguments received by Sequential.call():\n  • inputs=tf.Tensor(shape=(32, 32, 3), dtype=float32)\n  • training=False\n  • mask=None"
          ]
        }
      ]
    },
    {
      "cell_type": "code",
      "source": [],
      "metadata": {
        "id": "DIMl4PctyE6s"
      },
      "execution_count": null,
      "outputs": []
    }
  ]
}