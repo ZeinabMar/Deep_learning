{
  "nbformat": 4,
  "nbformat_minor": 0,
  "metadata": {
    "colab": {
      "provenance": [],
      "gpuType": "T4"
    },
    "kernelspec": {
      "name": "python3",
      "display_name": "Python 3"
    },
    "language_info": {
      "name": "python"
    },
    "accelerator": "GPU"
  },
  "cells": [
    {
      "cell_type": "code",
      "execution_count": 21,
      "metadata": {
        "id": "OEH2vQkpSiRf"
      },
      "outputs": [],
      "source": [
        "import tensorflow as tf\n",
        "from tensorflow import keras\n",
        "import matplotlib.pyplot as plt\n",
        "import numpy as np"
      ]
    },
    {
      "cell_type": "code",
      "source": [
        "dataset = keras.datasets.cifar10\n",
        "(x_train, y_train),(x_test,y_test) = dataset.load_data()"
      ],
      "metadata": {
        "colab": {
          "base_uri": "https://localhost:8080/"
        },
        "id": "KYtIv-mPTajf",
        "outputId": "1738ff4b-dd36-4396-99eb-711a551765ca"
      },
      "execution_count": 2,
      "outputs": [
        {
          "output_type": "stream",
          "name": "stdout",
          "text": [
            "Downloading data from https://www.cs.toronto.edu/~kriz/cifar-10-python.tar.gz\n",
            "\u001b[1m170498071/170498071\u001b[0m \u001b[32m━━━━━━━━━━━━━━━━━━━━\u001b[0m\u001b[37m\u001b[0m \u001b[1m3s\u001b[0m 0us/step\n"
          ]
        }
      ]
    },
    {
      "cell_type": "code",
      "source": [
        "plt.imshow(x_train[2])\n",
        "print(y_train[2])\n",
        "print(\"shape of input\",x_train[2].shape)\n",
        "print(\"shape of inputs\",x_train.shape)"
      ],
      "metadata": {
        "colab": {
          "base_uri": "https://localhost:8080/",
          "height": 482
        },
        "id": "4o_61dzgTyl-",
        "outputId": "17e9a420-21ef-4912-fd34-ffcd6a9ce7bf"
      },
      "execution_count": 3,
      "outputs": [
        {
          "output_type": "stream",
          "name": "stdout",
          "text": [
            "[9]\n",
            "shape of input (32, 32, 3)\n",
            "shape of inputs (50000, 32, 32, 3)\n"
          ]
        },
        {
          "output_type": "display_data",
          "data": {
            "text/plain": [
              "<Figure size 640x480 with 1 Axes>"
            ],
            "image/png": "[encoded data removed]"
          },
          "metadata": {}
        }
      ]
    },
    {
      "cell_type": "code",
      "source": [
        "model1 = keras.models.Sequential()\n",
        "model1.add(keras.layers.Flatten(input_shape=[32,32,3]))\n",
        "model1.add(keras.layers.Dense(50,activation='relu',kernel_initializer=keras.initializers.HeNormal))\n",
        "model1.add(keras.layers.Dense(50, activation='relu', kernel_initializer=keras.initializers.HeNormal))\n",
        "model1.add(keras.layers.Dense(10, activation='softmax', kernel_initializer=keras.initializers.GlorotNormal))\n"
      ],
      "metadata": {
        "id": "NebRtbMyT3Zr",
        "colab": {
          "base_uri": "https://localhost:8080/"
        },
        "outputId": "9a8d7188-00af-4b37-e8ba-0eacc43bd364"
      },
      "execution_count": 28,
      "outputs": [
        {
          "output_type": "stream",
          "name": "stderr",
          "text": [
            "/usr/local/lib/python3.10/dist-packages/keras/src/layers/reshaping/flatten.py:37: UserWarning: Do not pass an `input_shape`/`input_dim` argument to a layer. When using Sequential models, prefer using an `Input(shape)` object as the first layer in the model instead.\n",
            "  super().__init__(**kwargs)\n"
          ]
        }
      ]
    },
    {
      "cell_type": "code",
      "source": [
        "model1.compile(optimizer='sgd',loss='sparse_categorical_crossentropy',metrics=['accuracy'],)"
      ],
      "metadata": {
        "id": "kOkxMe5aWds5"
      },
      "execution_count": 29,
      "outputs": []
    },
    {
      "cell_type": "code",
      "source": [
        "history1 =  model1.fit(x_train/255,y_train,epochs=20,validation_split=0.25)"
      ],
      "metadata": {
        "colab": {
          "base_uri": "https://localhost:8080/"
        },
        "id": "rqsaVHWsriL6",
        "outputId": "dd37df3a-0ecd-4c60-9f3a-aedffcd4441e"
      },
      "execution_count": 30,
      "outputs": [
        {
          "output_type": "stream",
          "name": "stdout",
          "text": [
            "Epoch 1/20\n",
            "\u001b[1m1172/1172\u001b[0m \u001b[32m━━━━━━━━━━━━━━━━━━━━\u001b[0m\u001b[37m\u001b[0m \u001b[1m5s\u001b[0m 4ms/step - accuracy: 0.2308 - loss: 2.0807 - val_accuracy: 0.3159 - val_loss: 1.9158\n",
            "Epoch 2/20\n",
            "\u001b[1m1172/1172\u001b[0m \u001b[32m━━━━━━━━━━━━━━━━━━━━\u001b[0m\u001b[37m\u001b[0m \u001b[1m3s\u001b[0m 2ms/step - accuracy: 0.3483 - loss: 1.8131 - val_accuracy: 0.3505 - val_loss: 1.8131\n",
            "Epoch 3/20\n",
            "\u001b[1m1172/1172\u001b[0m \u001b[32m━━━━━━━━━━━━━━━━━━━━\u001b[0m\u001b[37m\u001b[0m \u001b[1m3s\u001b[0m 2ms/step - accuracy: 0.3834 - loss: 1.7325 - val_accuracy: 0.3876 - val_loss: 1.7304\n",
            "Epoch 4/20\n",
            "\u001b[1m1172/1172\u001b[0m \u001b[32m━━━━━━━━━━━━━━━━━━━━\u001b[0m\u001b[37m\u001b[0m \u001b[1m2s\u001b[0m 2ms/step - accuracy: 0.4071 - loss: 1.6786 - val_accuracy: 0.4014 - val_loss: 1.6911\n",
            "Epoch 5/20\n",
            "\u001b[1m1172/1172\u001b[0m \u001b[32m━━━━━━━━━━━━━━━━━━━━\u001b[0m\u001b[37m\u001b[0m \u001b[1m3s\u001b[0m 3ms/step - accuracy: 0.4213 - loss: 1.6362 - val_accuracy: 0.4274 - val_loss: 1.6326\n",
            "Epoch 6/20\n",
            "\u001b[1m1172/1172\u001b[0m \u001b[32m━━━━━━━━━━━━━━━━━━━━\u001b[0m\u001b[37m\u001b[0m \u001b[1m2s\u001b[0m 2ms/step - accuracy: 0.4306 - loss: 1.6152 - val_accuracy: 0.4091 - val_loss: 1.6638\n",
            "Epoch 7/20\n",
            "\u001b[1m1172/1172\u001b[0m \u001b[32m━━━━━━━━━━━━━━━━━━━━\u001b[0m\u001b[37m\u001b[0m \u001b[1m2s\u001b[0m 2ms/step - accuracy: 0.4379 - loss: 1.5853 - val_accuracy: 0.4112 - val_loss: 1.6734\n",
            "Epoch 8/20\n",
            "\u001b[1m1172/1172\u001b[0m \u001b[32m━━━━━━━━━━━━━━━━━━━━\u001b[0m\u001b[37m\u001b[0m \u001b[1m3s\u001b[0m 2ms/step - accuracy: 0.4493 - loss: 1.5650 - val_accuracy: 0.4309 - val_loss: 1.6163\n",
            "Epoch 9/20\n",
            "\u001b[1m1172/1172\u001b[0m \u001b[32m━━━━━━━━━━━━━━━━━━━━\u001b[0m\u001b[37m\u001b[0m \u001b[1m3s\u001b[0m 2ms/step - accuracy: 0.4526 - loss: 1.5410 - val_accuracy: 0.4338 - val_loss: 1.5944\n",
            "Epoch 10/20\n",
            "\u001b[1m1172/1172\u001b[0m \u001b[32m━━━━━━━━━━━━━━━━━━━━\u001b[0m\u001b[37m\u001b[0m \u001b[1m3s\u001b[0m 3ms/step - accuracy: 0.4631 - loss: 1.5230 - val_accuracy: 0.4270 - val_loss: 1.6190\n",
            "Epoch 11/20\n",
            "\u001b[1m1172/1172\u001b[0m \u001b[32m━━━━━━━━━━━━━━━━━━━━\u001b[0m\u001b[37m\u001b[0m \u001b[1m4s\u001b[0m 2ms/step - accuracy: 0.4642 - loss: 1.5202 - val_accuracy: 0.4363 - val_loss: 1.5849\n",
            "Epoch 12/20\n",
            "\u001b[1m1172/1172\u001b[0m \u001b[32m━━━━━━━━━━━━━━━━━━━━\u001b[0m\u001b[37m\u001b[0m \u001b[1m2s\u001b[0m 2ms/step - accuracy: 0.4747 - loss: 1.4833 - val_accuracy: 0.4414 - val_loss: 1.5780\n",
            "Epoch 13/20\n",
            "\u001b[1m1172/1172\u001b[0m \u001b[32m━━━━━━━━━━━━━━━━━━━━\u001b[0m\u001b[37m\u001b[0m \u001b[1m2s\u001b[0m 2ms/step - accuracy: 0.4719 - loss: 1.4893 - val_accuracy: 0.4518 - val_loss: 1.5498\n",
            "Epoch 14/20\n",
            "\u001b[1m1172/1172\u001b[0m \u001b[32m━━━━━━━━━━━━━━━━━━━━\u001b[0m\u001b[37m\u001b[0m \u001b[1m3s\u001b[0m 3ms/step - accuracy: 0.4790 - loss: 1.4708 - val_accuracy: 0.4520 - val_loss: 1.5514\n",
            "Epoch 15/20\n",
            "\u001b[1m1172/1172\u001b[0m \u001b[32m━━━━━━━━━━━━━━━━━━━━\u001b[0m\u001b[37m\u001b[0m \u001b[1m2s\u001b[0m 2ms/step - accuracy: 0.4805 - loss: 1.4678 - val_accuracy: 0.4118 - val_loss: 1.6506\n",
            "Epoch 16/20\n",
            "\u001b[1m1172/1172\u001b[0m \u001b[32m━━━━━━━━━━━━━━━━━━━━\u001b[0m\u001b[37m\u001b[0m \u001b[1m3s\u001b[0m 2ms/step - accuracy: 0.4895 - loss: 1.4440 - val_accuracy: 0.4526 - val_loss: 1.5462\n",
            "Epoch 17/20\n",
            "\u001b[1m1172/1172\u001b[0m \u001b[32m━━━━━━━━━━━━━━━━━━━━\u001b[0m\u001b[37m\u001b[0m \u001b[1m2s\u001b[0m 2ms/step - accuracy: 0.4908 - loss: 1.4443 - val_accuracy: 0.4703 - val_loss: 1.5049\n",
            "Epoch 18/20\n",
            "\u001b[1m1172/1172\u001b[0m \u001b[32m━━━━━━━━━━━━━━━━━━━━\u001b[0m\u001b[37m\u001b[0m \u001b[1m3s\u001b[0m 3ms/step - accuracy: 0.4963 - loss: 1.4192 - val_accuracy: 0.4432 - val_loss: 1.5618\n",
            "Epoch 19/20\n",
            "\u001b[1m1172/1172\u001b[0m \u001b[32m━━━━━━━━━━━━━━━━━━━━\u001b[0m\u001b[37m\u001b[0m \u001b[1m3s\u001b[0m 2ms/step - accuracy: 0.4966 - loss: 1.4170 - val_accuracy: 0.4323 - val_loss: 1.6391\n",
            "Epoch 20/20\n",
            "\u001b[1m1172/1172\u001b[0m \u001b[32m━━━━━━━━━━━━━━━━━━━━\u001b[0m\u001b[37m\u001b[0m \u001b[1m2s\u001b[0m 2ms/step - accuracy: 0.5038 - loss: 1.4027 - val_accuracy: 0.4609 - val_loss: 1.5405\n"
          ]
        }
      ]
    },
    {
      "cell_type": "code",
      "source": [
        "print(\"Weight of first layer\",model1.get_weights()[0])\n",
        "print(\"Weight of second layer\",model1.get_weights()[1])"
      ],
      "metadata": {
        "colab": {
          "base_uri": "https://localhost:8080/"
        },
        "id": "dhHfb8NdvZ9i",
        "outputId": "91ddcfa6-a236-4b45-f26d-82e480aec311"
      },
      "execution_count": 31,
      "outputs": [
        {
          "output_type": "stream",
          "name": "stdout",
          "text": [
            "Weight of first layer [[-1.2259129e-04  3.5615306e-02 -5.8705281e-02 ... -2.6664894e-02\n",
            "   1.2880285e-02 -2.1222686e-02]\n",
            " [-6.2992731e-03  4.6622907e-03 -3.9388780e-02 ... -1.1604251e-02\n",
            "  -1.1377066e-02 -2.7426556e-02]\n",
            " [ 1.0597864e-02 -1.5697213e-02  4.6389602e-02 ... -2.4096793e-02\n",
            "  -2.3282126e-02 -2.8192293e-02]\n",
            " ...\n",
            " [-7.7136561e-02  3.1992504e-03  3.8061835e-02 ...  9.0982154e-02\n",
            "  -2.7981712e-02 -1.2954062e-01]\n",
            " [-3.4313850e-02  2.1469105e-02  3.8306739e-02 ...  8.9811169e-02\n",
            "   5.4550156e-02 -7.8719165e-03]\n",
            " [-1.6419468e-02 -3.8859066e-02 -3.4878623e-02 ...  2.1047736e-02\n",
            "   2.6220120e-02  1.0913343e-02]]\n",
            "Weight of second layer [-1.7847851e-02 -8.2973868e-04 -3.3897460e-02  4.9541291e-02\n",
            "  6.3403500e-03  1.2759410e-01  3.1439397e-02 -1.9177198e-01\n",
            "  2.0991340e-03 -5.7657682e-03 -4.6240006e-02 -1.0530925e-02\n",
            " -1.1703110e-03 -7.4553818e-02 -8.7478511e-02 -1.4766129e-03\n",
            " -1.6972455e-03 -1.2582700e-01 -1.4324064e-02  1.1097481e-02\n",
            " -4.8167501e-03  6.5755747e-02  1.6685560e-01  1.1746920e-02\n",
            "  1.5611628e-02 -1.6874514e-03 -7.3444985e-02  4.7386274e-01\n",
            " -8.1572376e-02  0.0000000e+00 -1.8003115e-03 -4.2485324e-01\n",
            "  6.1424444e-03  1.1441096e-01  5.1552635e-02 -6.1316218e-04\n",
            "  6.8693128e-03  1.7107762e-01  6.7609334e-03 -3.7793720e-03\n",
            "  3.3468390e-01 -7.7754288e-05  2.0644222e-01 -7.4344233e-04\n",
            "  4.6982102e-02 -2.3350174e-02 -3.3365504e-03  1.7773695e-01\n",
            " -1.1864143e-03  6.0574431e-03]\n"
          ]
        }
      ]
    },
    {
      "cell_type": "code",
      "source": [
        "fig, ax = plt.subplots(figsize=(5,5))\n",
        "ax.plot(history1.history['loss'], label=\"loss\")\n",
        "ax.plot(history1.history['accuracy'], label='accuracy')\n",
        "ax.plot(history1.history['val_accuracy'], label='val_accuracy')\n",
        "ax.plot(history1.history['val_loss'], label='val_loss')\n",
        "ax.legend([\"loss\",\"accuracy\", \"val_accuracy\", \"val_loss\"])"
      ],
      "metadata": {
        "colab": {
          "base_uri": "https://localhost:8080/",
          "height": 462
        },
        "id": "Ngi0Dpu2joVo",
        "outputId": "aab9aeaa-762c-49ac-f6f7-93e12d1c875f"
      },
      "execution_count": 32,
      "outputs": [
        {
          "output_type": "execute_result",
          "data": {
            "text/plain": [
              "[<matplotlib.lines.Line2D at 0x7e993b668b80>]"
            ]
          },
          "metadata": {},
          "execution_count": 32
        },
        {
          "output_type": "display_data",
          "data": {
            "text/plain": [
              "<Figure size 500x500 with 1 Axes>"
            ],
            "image/png": "[encoded data removed]"
          },
          "metadata": {}
        }
      ]
    },
    {
      "cell_type": "markdown",
      "source": [
        "#initializing with zero"
      ],
      "metadata": {
        "id": "leIkWp07w5ND"
      }
    },
    {
      "cell_type": "code",
      "source": [
        "model2 = keras.models.Sequential()\n",
        "model2.add(keras.layers.Flatten(input_shape=[32,32,3]))\n",
        "model2.add(keras.layers.Dense(50,activation='relu',kernel_initializer=keras.initializers.Zeros))\n",
        "model2.add(keras.layers.Dense(50, activation='relu', kernel_initializer=keras.initializers.Zeros))\n",
        "model2.add(keras.layers.Dense(10, activation='softmax', kernel_initializer=keras.initializers.Zeros))\n"
      ],
      "metadata": {
        "id": "BbIWh9qewQyF"
      },
      "execution_count": 33,
      "outputs": []
    },
    {
      "cell_type": "code",
      "source": [
        "model2.compile(optimizer='sgd',loss='sparse_categorical_crossentropy',metrics=['accuracy'],)"
      ],
      "metadata": {
        "id": "SIkcFAZyxQBb"
      },
      "execution_count": 34,
      "outputs": []
    },
    {
      "cell_type": "code",
      "source": [
        "history2 =  model2.fit(x_train/255,y_train,epochs=20,validation_split=0.25)"
      ],
      "metadata": {
        "colab": {
          "base_uri": "https://localhost:8080/"
        },
        "id": "YKxt63zKxTB_",
        "outputId": "1527e698-33ca-46bb-b615-ffe8b6794c30"
      },
      "execution_count": 35,
      "outputs": [
        {
          "output_type": "stream",
          "name": "stdout",
          "text": [
            "Epoch 1/20\n",
            "\u001b[1m1172/1172\u001b[0m \u001b[32m━━━━━━━━━━━━━━━━━━━━\u001b[0m\u001b[37m\u001b[0m \u001b[1m6s\u001b[0m 5ms/step - accuracy: 0.1007 - loss: 2.3027 - val_accuracy: 0.0952 - val_loss: 2.3027\n",
            "Epoch 2/20\n",
            "\u001b[1m1172/1172\u001b[0m \u001b[32m━━━━━━━━━━━━━━━━━━━━\u001b[0m\u001b[37m\u001b[0m \u001b[1m7s\u001b[0m 2ms/step - accuracy: 0.1016 - loss: 2.3026 - val_accuracy: 0.0952 - val_loss: 2.3028\n",
            "Epoch 3/20\n",
            "\u001b[1m1172/1172\u001b[0m \u001b[32m━━━━━━━━━━━━━━━━━━━━\u001b[0m\u001b[37m\u001b[0m \u001b[1m2s\u001b[0m 2ms/step - accuracy: 0.1009 - loss: 2.3026 - val_accuracy: 0.0952 - val_loss: 2.3027\n",
            "Epoch 4/20\n",
            "\u001b[1m1172/1172\u001b[0m \u001b[32m━━━━━━━━━━━━━━━━━━━━\u001b[0m\u001b[37m\u001b[0m \u001b[1m3s\u001b[0m 3ms/step - accuracy: 0.0980 - loss: 2.3027 - val_accuracy: 0.0952 - val_loss: 2.3028\n",
            "Epoch 5/20\n",
            "\u001b[1m1172/1172\u001b[0m \u001b[32m━━━━━━━━━━━━━━━━━━━━\u001b[0m\u001b[37m\u001b[0m \u001b[1m4s\u001b[0m 2ms/step - accuracy: 0.0991 - loss: 2.3027 - val_accuracy: 0.0952 - val_loss: 2.3028\n",
            "Epoch 6/20\n",
            "\u001b[1m1172/1172\u001b[0m \u001b[32m━━━━━━━━━━━━━━━━━━━━\u001b[0m\u001b[37m\u001b[0m \u001b[1m2s\u001b[0m 2ms/step - accuracy: 0.1019 - loss: 2.3026 - val_accuracy: 0.0952 - val_loss: 2.3027\n",
            "Epoch 7/20\n",
            "\u001b[1m1172/1172\u001b[0m \u001b[32m━━━━━━━━━━━━━━━━━━━━\u001b[0m\u001b[37m\u001b[0m \u001b[1m2s\u001b[0m 2ms/step - accuracy: 0.1007 - loss: 2.3027 - val_accuracy: 0.0952 - val_loss: 2.3028\n",
            "Epoch 8/20\n",
            "\u001b[1m1172/1172\u001b[0m \u001b[32m━━━━━━━━━━━━━━━━━━━━\u001b[0m\u001b[37m\u001b[0m \u001b[1m4s\u001b[0m 3ms/step - accuracy: 0.1034 - loss: 2.3026 - val_accuracy: 0.0952 - val_loss: 2.3028\n",
            "Epoch 9/20\n",
            "\u001b[1m1172/1172\u001b[0m \u001b[32m━━━━━━━━━━━━━━━━━━━━\u001b[0m\u001b[37m\u001b[0m \u001b[1m4s\u001b[0m 2ms/step - accuracy: 0.1015 - loss: 2.3026 - val_accuracy: 0.0952 - val_loss: 2.3028\n",
            "Epoch 10/20\n",
            "\u001b[1m1172/1172\u001b[0m \u001b[32m━━━━━━━━━━━━━━━━━━━━\u001b[0m\u001b[37m\u001b[0m \u001b[1m3s\u001b[0m 2ms/step - accuracy: 0.1030 - loss: 2.3026 - val_accuracy: 0.0952 - val_loss: 2.3027\n",
            "Epoch 11/20\n",
            "\u001b[1m1172/1172\u001b[0m \u001b[32m━━━━━━━━━━━━━━━━━━━━\u001b[0m\u001b[37m\u001b[0m \u001b[1m3s\u001b[0m 2ms/step - accuracy: 0.1008 - loss: 2.3026 - val_accuracy: 0.0952 - val_loss: 2.3027\n",
            "Epoch 12/20\n",
            "\u001b[1m1172/1172\u001b[0m \u001b[32m━━━━━━━━━━━━━━━━━━━━\u001b[0m\u001b[37m\u001b[0m \u001b[1m3s\u001b[0m 3ms/step - accuracy: 0.1020 - loss: 2.3027 - val_accuracy: 0.0952 - val_loss: 2.3027\n",
            "Epoch 13/20\n",
            "\u001b[1m1172/1172\u001b[0m \u001b[32m━━━━━━━━━━━━━━━━━━━━\u001b[0m\u001b[37m\u001b[0m \u001b[1m4s\u001b[0m 2ms/step - accuracy: 0.1019 - loss: 2.3026 - val_accuracy: 0.0952 - val_loss: 2.3027\n",
            "Epoch 14/20\n",
            "\u001b[1m1172/1172\u001b[0m \u001b[32m━━━━━━━━━━━━━━━━━━━━\u001b[0m\u001b[37m\u001b[0m \u001b[1m2s\u001b[0m 2ms/step - accuracy: 0.0957 - loss: 2.3027 - val_accuracy: 0.0952 - val_loss: 2.3028\n",
            "Epoch 15/20\n",
            "\u001b[1m1172/1172\u001b[0m \u001b[32m━━━━━━━━━━━━━━━━━━━━\u001b[0m\u001b[37m\u001b[0m \u001b[1m3s\u001b[0m 2ms/step - accuracy: 0.1023 - loss: 2.3026 - val_accuracy: 0.0952 - val_loss: 2.3028\n",
            "Epoch 16/20\n",
            "\u001b[1m1172/1172\u001b[0m \u001b[32m━━━━━━━━━━━━━━━━━━━━\u001b[0m\u001b[37m\u001b[0m \u001b[1m3s\u001b[0m 3ms/step - accuracy: 0.0995 - loss: 2.3026 - val_accuracy: 0.0952 - val_loss: 2.3027\n",
            "Epoch 17/20\n",
            "\u001b[1m1172/1172\u001b[0m \u001b[32m━━━━━━━━━━━━━━━━━━━━\u001b[0m\u001b[37m\u001b[0m \u001b[1m2s\u001b[0m 2ms/step - accuracy: 0.1027 - loss: 2.3026 - val_accuracy: 0.0952 - val_loss: 2.3027\n",
            "Epoch 18/20\n",
            "\u001b[1m1172/1172\u001b[0m \u001b[32m━━━━━━━━━━━━━━━━━━━━\u001b[0m\u001b[37m\u001b[0m \u001b[1m2s\u001b[0m 2ms/step - accuracy: 0.1024 - loss: 2.3026 - val_accuracy: 0.0952 - val_loss: 2.3027\n",
            "Epoch 19/20\n",
            "\u001b[1m1172/1172\u001b[0m \u001b[32m━━━━━━━━━━━━━━━━━━━━\u001b[0m\u001b[37m\u001b[0m \u001b[1m2s\u001b[0m 2ms/step - accuracy: 0.0995 - loss: 2.3027 - val_accuracy: 0.0952 - val_loss: 2.3028\n",
            "Epoch 20/20\n",
            "\u001b[1m1172/1172\u001b[0m \u001b[32m━━━━━━━━━━━━━━━━━━━━\u001b[0m\u001b[37m\u001b[0m \u001b[1m2s\u001b[0m 2ms/step - accuracy: 0.1027 - loss: 2.3026 - val_accuracy: 0.0952 - val_loss: 2.3027\n"
          ]
        }
      ]
    },
    {
      "cell_type": "code",
      "source": [
        "print(\"Weight of first layer\",model2.get_weights()[0])\n",
        "print(\"Weight of second layer\",model2.get_weights()[1])"
      ],
      "metadata": {
        "colab": {
          "base_uri": "https://localhost:8080/"
        },
        "id": "4otJXyMKxXPN",
        "outputId": "1c9e406a-8d48-472b-80d5-b873a40aa6e3"
      },
      "execution_count": 36,
      "outputs": [
        {
          "output_type": "stream",
          "name": "stdout",
          "text": [
            "Weight of first layer [[0. 0. 0. ... 0. 0. 0.]\n",
            " [0. 0. 0. ... 0. 0. 0.]\n",
            " [0. 0. 0. ... 0. 0. 0.]\n",
            " ...\n",
            " [0. 0. 0. ... 0. 0. 0.]\n",
            " [0. 0. 0. ... 0. 0. 0.]\n",
            " [0. 0. 0. ... 0. 0. 0.]]\n",
            "Weight of second layer [0. 0. 0. 0. 0. 0. 0. 0. 0. 0. 0. 0. 0. 0. 0. 0. 0. 0. 0. 0. 0. 0. 0. 0.\n",
            " 0. 0. 0. 0. 0. 0. 0. 0. 0. 0. 0. 0. 0. 0. 0. 0. 0. 0. 0. 0. 0. 0. 0. 0.\n",
            " 0. 0.]\n"
          ]
        }
      ]
    },
    {
      "cell_type": "code",
      "source": [
        "x_test[1]"
      ],
      "metadata": {
        "colab": {
          "base_uri": "https://localhost:8080/",
          "height": 73
        },
        "id": "X7qDSGy8yLy2",
        "outputId": "8ddd7af9-154c-4061-c242-ebd9d88ca01d"
      },
      "execution_count": 12,
      "outputs": [
        {
          "output_type": "execute_result",
          "data": {
            "text/plain": [
              "array([[[235, 235, 235],\n",
              "        [231, 231, 231],\n",
              "        [232, 232, 232],\n",
              "        ...,\n",
              "        [233, 233, 233],\n",
              "        [233, 233, 233],\n",
              "        [232, 232, 232]],\n",
              "\n",
              "       [[238, 238, 238],\n",
              "        [235, 235, 235],\n",
              "        [235, 235, 235],\n",
              "        ...,\n",
              "        [236, 236, 236],\n",
              "        [236, 236, 236],\n",
              "        [235, 235, 235]],\n",
              "\n",
              "       [[237, 237, 237],\n",
              "        [234, 234, 234],\n",
              "        [234, 234, 234],\n",
              "        ...,\n",
              "        [235, 235, 235],\n",
              "        [235, 235, 235],\n",
              "        [234, 234, 234]],\n",
              "\n",
              "       ...,\n",
              "\n",
              "       [[ 87,  99,  89],\n",
              "        [ 43,  51,  37],\n",
              "        [ 19,  23,  11],\n",
              "        ...,\n",
              "        [169, 184, 179],\n",
              "        [182, 197, 193],\n",
              "        [188, 202, 201]],\n",
              "\n",
              "       [[ 82,  96,  82],\n",
              "        [ 46,  57,  36],\n",
              "        [ 36,  44,  22],\n",
              "        ...,\n",
              "        [174, 189, 183],\n",
              "        [185, 200, 196],\n",
              "        [187, 202, 200]],\n",
              "\n",
              "       [[ 85, 101,  83],\n",
              "        [ 62,  75,  48],\n",
              "        [ 58,  67,  38],\n",
              "        ...,\n",
              "        [168, 183, 178],\n",
              "        [180, 195, 191],\n",
              "        [186, 200, 199]]], dtype=uint8)"
            ],
            "text/html": [
              "<style>\n",
              "      .ndarray_repr .ndarray_raw_data {\n",
              "        display: none;\n",
              "      }\n",
              "      .ndarray_repr.show_array .ndarray_raw_data {\n",
              "        display: block;\n",
              "      }\n",
              "      .ndarray_repr.show_array .ndarray_image_preview {\n",
              "        display: none;\n",
              "      }\n",
              "      </style>\n",
              "      <div id=\"id-8a276a1e-4cf8-43ae-8a3f-85ba45cedf9f\" class=\"ndarray_repr\"><pre>ndarray (32, 32, 3) <button style=\"padding: 0 2px;\">show data</button></pre><img src=\"data:image/png;base64,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\" class=\"ndarray_image_preview\" /><pre class=\"ndarray_raw_data\">array([[[235, 235, 235],\n",
              "        [231, 231, 231],\n",
              "        [232, 232, 232],\n",
              "        ...,\n",
              "        [233, 233, 233],\n",
              "        [233, 233, 233],\n",
              "        [232, 232, 232]],\n",
              "\n",
              "       [[238, 238, 238],\n",
              "        [235, 235, 235],\n",
              "        [235, 235, 235],\n",
              "        ...,\n",
              "        [236, 236, 236],\n",
              "        [236, 236, 236],\n",
              "        [235, 235, 235]],\n",
              "\n",
              "       [[237, 237, 237],\n",
              "        [234, 234, 234],\n",
              "        [234, 234, 234],\n",
              "        ...,\n",
              "        [235, 235, 235],\n",
              "        [235, 235, 235],\n",
              "        [234, 234, 234]],\n",
              "\n",
              "       ...,\n",
              "\n",
              "       [[ 87,  99,  89],\n",
              "        [ 43,  51,  37],\n",
              "        [ 19,  23,  11],\n",
              "        ...,\n",
              "        [169, 184, 179],\n",
              "        [182, 197, 193],\n",
              "        [188, 202, 201]],\n",
              "\n",
              "       [[ 82,  96,  82],\n",
              "        [ 46,  57,  36],\n",
              "        [ 36,  44,  22],\n",
              "        ...,\n",
              "        [174, 189, 183],\n",
              "        [185, 200, 196],\n",
              "        [187, 202, 200]],\n",
              "\n",
              "       [[ 85, 101,  83],\n",
              "        [ 62,  75,  48],\n",
              "        [ 58,  67,  38],\n",
              "        ...,\n",
              "        [168, 183, 178],\n",
              "        [180, 195, 191],\n",
              "        [186, 200, 199]]], dtype=uint8)</pre></div><script>\n",
              "      (() => {\n",
              "      const titles = ['show data', 'hide data'];\n",
              "      let index = 0\n",
              "      document.querySelector('#id-8a276a1e-4cf8-43ae-8a3f-85ba45cedf9f button').onclick = (e) => {\n",
              "        document.querySelector('#id-8a276a1e-4cf8-43ae-8a3f-85ba45cedf9f').classList.toggle('show_array');\n",
              "        index = (++index) % 2;\n",
              "        document.querySelector('#id-8a276a1e-4cf8-43ae-8a3f-85ba45cedf9f button').textContent = titles[index];\n",
              "        e.preventDefault();\n",
              "        e.stopPropagation();\n",
              "      }\n",
              "      })();\n",
              "    </script>"
            ]
          },
          "metadata": {},
          "execution_count": 12
        }
      ]
    },
    {
      "cell_type": "code",
      "source": [
        "y_hat= model2.predict(x_test/255)"
      ],
      "metadata": {
        "colab": {
          "base_uri": "https://localhost:8080/"
        },
        "id": "vP34rUUYx2Ki",
        "outputId": "053aad44-7fff-4e77-b0eb-6ebc069c2a15"
      },
      "execution_count": 14,
      "outputs": [
        {
          "output_type": "stream",
          "name": "stdout",
          "text": [
            "\u001b[1m313/313\u001b[0m \u001b[32m━━━━━━━━━━━━━━━━━━━━\u001b[0m\u001b[37m\u001b[0m \u001b[1m1s\u001b[0m 2ms/step\n"
          ]
        }
      ]
    },
    {
      "cell_type": "code",
      "source": [
        "np.argmax(y_hat[1])"
      ],
      "metadata": {
        "id": "DIMl4PctyE6s",
        "colab": {
          "base_uri": "https://localhost:8080/"
        },
        "outputId": "c56800b5-61fc-43a5-8d99-9fdd7f12617c"
      },
      "execution_count": 22,
      "outputs": [
        {
          "output_type": "execute_result",
          "data": {
            "text/plain": [
              "2"
            ]
          },
          "metadata": {},
          "execution_count": 22
        }
      ]
    },
    {
      "cell_type": "code",
      "source": [
        "y_train[1]"
      ],
      "metadata": {
        "colab": {
          "base_uri": "https://localhost:8080/"
        },
        "id": "wcZTaTzAhbNy",
        "outputId": "ae182f08-e37d-45db-9817-03ced73897c7"
      },
      "execution_count": 23,
      "outputs": [
        {
          "output_type": "execute_result",
          "data": {
            "text/plain": [
              "array([9], dtype=uint8)"
            ]
          },
          "metadata": {},
          "execution_count": 23
        }
      ]
    },
    {
      "cell_type": "code",
      "source": [
        "model2.evaluate(x_test,y_test)"
      ],
      "metadata": {
        "colab": {
          "base_uri": "https://localhost:8080/"
        },
        "id": "dlt8qTqihi2A",
        "outputId": "87a788c9-7983-4c6b-a794-fa0acd817801"
      },
      "execution_count": 25,
      "outputs": [
        {
          "output_type": "stream",
          "name": "stdout",
          "text": [
            "\u001b[1m313/313\u001b[0m \u001b[32m━━━━━━━━━━━━━━━━━━━━\u001b[0m\u001b[37m\u001b[0m \u001b[1m1s\u001b[0m 3ms/step - accuracy: 0.1006 - loss: 2.3026\n"
          ]
        },
        {
          "output_type": "execute_result",
          "data": {
            "text/plain": [
              "[2.302622079849243, 0.10000000149011612]"
            ]
          },
          "metadata": {},
          "execution_count": 25
        }
      ]
    },
    {
      "cell_type": "code",
      "source": [
        "fig, ax = plt.subplots(figsize=(5,5))\n",
        "ax.plot(history2.history['loss'], label=\"loss\")\n",
        "ax.plot(history2.history['accuracy'], label='accuracy')\n",
        "ax.plot(history2.history['val_accuracy'], label='val_accuracy')\n",
        "ax.plot(history2.history['val_loss'], label='val_loss')\n",
        "ax.legend([\"loss\",\"accuracy\", \"val_accuracy\", \"val_loss\"])"
      ],
      "metadata": {
        "colab": {
          "base_uri": "https://localhost:8080/",
          "height": 462
        },
        "id": "JTvpLHEYhylM",
        "outputId": "3b7d7a15-860a-4c41-f2fd-f451d7ed08c9"
      },
      "execution_count": 27,
      "outputs": [
        {
          "output_type": "execute_result",
          "data": {
            "text/plain": [
              "[<matplotlib.lines.Line2D at 0x7e993d01a7a0>]"
            ]
          },
          "metadata": {},
          "execution_count": 27
        },
        {
          "output_type": "display_data",
          "data": {
            "text/plain": [
              "<Figure size 500x500 with 1 Axes>"
            ],
            "image/png": "[encoded data removed]"
          },
          "metadata": {}
        }
      ]
    },
    {
      "cell_type": "markdown",
      "source": [
        "# self-normalizing In Initializer"
      ],
      "metadata": {
        "id": "NQoNqbfnkeGw"
      }
    },
    {
      "cell_type": "code",
      "source": [
        "model3 = keras.models.Sequential()\n",
        "model3.add(keras.layers.Flatten(input_shape=[32,32,3]))\n",
        "model3.add(keras.layers.Dense(50,activation='selu',kernel_initializer=keras.initializers.LecunNormal))\n",
        "model3.add(keras.layers.Dense(50, activation='selu', kernel_initializer=keras.initializers.lecun_normal))\n",
        "model3.add(keras.layers.Dense(10, activation='softmax', kernel_initializer=keras.initializers.glorot_normal))\n"
      ],
      "metadata": {
        "colab": {
          "base_uri": "https://localhost:8080/"
        },
        "id": "Fjz90__jjTz8",
        "outputId": "2c8b8b13-a805-4090-c0da-2a18ba8542c1"
      },
      "execution_count": 38,
      "outputs": [
        {
          "output_type": "stream",
          "name": "stderr",
          "text": [
            "/usr/local/lib/python3.10/dist-packages/keras/src/layers/reshaping/flatten.py:37: UserWarning: Do not pass an `input_shape`/`input_dim` argument to a layer. When using Sequential models, prefer using an `Input(shape)` object as the first layer in the model instead.\n",
            "  super().__init__(**kwargs)\n"
          ]
        }
      ]
    },
    {
      "cell_type": "code",
      "source": [
        "model3.compile(optimizer='sgd',loss='sparse_categorical_crossentropy',metrics=['accuracy'],)"
      ],
      "metadata": {
        "id": "0Zf5Z-rxkq1S"
      },
      "execution_count": 39,
      "outputs": []
    },
    {
      "cell_type": "code",
      "source": [
        "history3 =  model3.fit(x_train/255,y_train,epochs=20,validation_split=0.25)"
      ],
      "metadata": {
        "colab": {
          "base_uri": "https://localhost:8080/"
        },
        "id": "16n5qvLKkv8-",
        "outputId": "9b5e6927-4658-48b7-d96a-435dfa3ef288"
      },
      "execution_count": 40,
      "outputs": [
        {
          "output_type": "stream",
          "name": "stdout",
          "text": [
            "Epoch 1/20\n",
            "\u001b[1m1172/1172\u001b[0m \u001b[32m━━━━━━━━━━━━━━━━━━━━\u001b[0m\u001b[37m\u001b[0m \u001b[1m4s\u001b[0m 3ms/step - accuracy: 0.2582 - loss: 2.0739 - val_accuracy: 0.3510 - val_loss: 1.8338\n",
            "Epoch 2/20\n",
            "\u001b[1m1172/1172\u001b[0m \u001b[32m━━━━━━━━━━━━━━━━━━━━\u001b[0m\u001b[37m\u001b[0m \u001b[1m2s\u001b[0m 2ms/step - accuracy: 0.3660 - loss: 1.7788 - val_accuracy: 0.3738 - val_loss: 1.7769\n",
            "Epoch 3/20\n",
            "\u001b[1m1172/1172\u001b[0m \u001b[32m━━━━━━━━━━━━━━━━━━━━\u001b[0m\u001b[37m\u001b[0m \u001b[1m3s\u001b[0m 3ms/step - accuracy: 0.3934 - loss: 1.7092 - val_accuracy: 0.3867 - val_loss: 1.7414\n",
            "Epoch 4/20\n",
            "\u001b[1m1172/1172\u001b[0m \u001b[32m━━━━━━━━━━━━━━━━━━━━\u001b[0m\u001b[37m\u001b[0m \u001b[1m2s\u001b[0m 2ms/step - accuracy: 0.4082 - loss: 1.6641 - val_accuracy: 0.4146 - val_loss: 1.6586\n",
            "Epoch 5/20\n",
            "\u001b[1m1172/1172\u001b[0m \u001b[32m━━━━━━━━━━━━━━━━━━━━\u001b[0m\u001b[37m\u001b[0m \u001b[1m2s\u001b[0m 2ms/step - accuracy: 0.4225 - loss: 1.6271 - val_accuracy: 0.3964 - val_loss: 1.7044\n",
            "Epoch 6/20\n",
            "\u001b[1m1172/1172\u001b[0m \u001b[32m━━━━━━━━━━━━━━━━━━━━\u001b[0m\u001b[37m\u001b[0m \u001b[1m2s\u001b[0m 2ms/step - accuracy: 0.4335 - loss: 1.5957 - val_accuracy: 0.4300 - val_loss: 1.6182\n",
            "Epoch 7/20\n",
            "\u001b[1m1172/1172\u001b[0m \u001b[32m━━━━━━━━━━━━━━━━━━━━\u001b[0m\u001b[37m\u001b[0m \u001b[1m3s\u001b[0m 2ms/step - accuracy: 0.4427 - loss: 1.5722 - val_accuracy: 0.4250 - val_loss: 1.6186\n",
            "Epoch 8/20\n",
            "\u001b[1m1172/1172\u001b[0m \u001b[32m━━━━━━━━━━━━━━━━━━━━\u001b[0m\u001b[37m\u001b[0m \u001b[1m3s\u001b[0m 3ms/step - accuracy: 0.4564 - loss: 1.5401 - val_accuracy: 0.4459 - val_loss: 1.5718\n",
            "Epoch 9/20\n",
            "\u001b[1m1172/1172\u001b[0m \u001b[32m━━━━━━━━━━━━━━━━━━━━\u001b[0m\u001b[37m\u001b[0m \u001b[1m4s\u001b[0m 2ms/step - accuracy: 0.4606 - loss: 1.5095 - val_accuracy: 0.4118 - val_loss: 1.6569\n",
            "Epoch 10/20\n",
            "\u001b[1m1172/1172\u001b[0m \u001b[32m━━━━━━━━━━━━━━━━━━━━\u001b[0m\u001b[37m\u001b[0m \u001b[1m3s\u001b[0m 2ms/step - accuracy: 0.4681 - loss: 1.5031 - val_accuracy: 0.4476 - val_loss: 1.5693\n",
            "Epoch 11/20\n",
            "\u001b[1m1172/1172\u001b[0m \u001b[32m━━━━━━━━━━━━━━━━━━━━\u001b[0m\u001b[37m\u001b[0m \u001b[1m3s\u001b[0m 3ms/step - accuracy: 0.4747 - loss: 1.4886 - val_accuracy: 0.4526 - val_loss: 1.5577\n",
            "Epoch 12/20\n",
            "\u001b[1m1172/1172\u001b[0m \u001b[32m━━━━━━━━━━━━━━━━━━━━\u001b[0m\u001b[37m\u001b[0m \u001b[1m3s\u001b[0m 2ms/step - accuracy: 0.4862 - loss: 1.4571 - val_accuracy: 0.4483 - val_loss: 1.5681\n",
            "Epoch 13/20\n",
            "\u001b[1m1172/1172\u001b[0m \u001b[32m━━━━━━━━━━━━━━━━━━━━\u001b[0m\u001b[37m\u001b[0m \u001b[1m5s\u001b[0m 2ms/step - accuracy: 0.4803 - loss: 1.4583 - val_accuracy: 0.4466 - val_loss: 1.5593\n",
            "Epoch 14/20\n",
            "\u001b[1m1172/1172\u001b[0m \u001b[32m━━━━━━━━━━━━━━━━━━━━\u001b[0m\u001b[37m\u001b[0m \u001b[1m2s\u001b[0m 2ms/step - accuracy: 0.4875 - loss: 1.4392 - val_accuracy: 0.4522 - val_loss: 1.5556\n",
            "Epoch 15/20\n",
            "\u001b[1m1172/1172\u001b[0m \u001b[32m━━━━━━━━━━━━━━━━━━━━\u001b[0m\u001b[37m\u001b[0m \u001b[1m4s\u001b[0m 3ms/step - accuracy: 0.4950 - loss: 1.4258 - val_accuracy: 0.4584 - val_loss: 1.5282\n",
            "Epoch 16/20\n",
            "\u001b[1m1172/1172\u001b[0m \u001b[32m━━━━━━━━━━━━━━━━━━━━\u001b[0m\u001b[37m\u001b[0m \u001b[1m4s\u001b[0m 2ms/step - accuracy: 0.4974 - loss: 1.4151 - val_accuracy: 0.4683 - val_loss: 1.5209\n",
            "Epoch 17/20\n",
            "\u001b[1m1172/1172\u001b[0m \u001b[32m━━━━━━━━━━━━━━━━━━━━\u001b[0m\u001b[37m\u001b[0m \u001b[1m3s\u001b[0m 2ms/step - accuracy: 0.5036 - loss: 1.4024 - val_accuracy: 0.4610 - val_loss: 1.5244\n",
            "Epoch 18/20\n",
            "\u001b[1m1172/1172\u001b[0m \u001b[32m━━━━━━━━━━━━━━━━━━━━\u001b[0m\u001b[37m\u001b[0m \u001b[1m2s\u001b[0m 2ms/step - accuracy: 0.5036 - loss: 1.3927 - val_accuracy: 0.4661 - val_loss: 1.5246\n",
            "Epoch 19/20\n",
            "\u001b[1m1172/1172\u001b[0m \u001b[32m━━━━━━━━━━━━━━━━━━━━\u001b[0m\u001b[37m\u001b[0m \u001b[1m3s\u001b[0m 3ms/step - accuracy: 0.5097 - loss: 1.3840 - val_accuracy: 0.4794 - val_loss: 1.4787\n",
            "Epoch 20/20\n",
            "\u001b[1m1172/1172\u001b[0m \u001b[32m━━━━━━━━━━━━━━━━━━━━\u001b[0m\u001b[37m\u001b[0m \u001b[1m4s\u001b[0m 2ms/step - accuracy: 0.5160 - loss: 1.3668 - val_accuracy: 0.4647 - val_loss: 1.5190\n"
          ]
        }
      ]
    },
    {
      "cell_type": "code",
      "source": [
        "print(\"Weight of first layer\",model3.get_weights()[0])\n",
        "print(\"Weight of second layer\",model3.get_weights()[1])"
      ],
      "metadata": {
        "colab": {
          "base_uri": "https://localhost:8080/"
        },
        "id": "beZzLlZ0lqDk",
        "outputId": "045f8f1c-bbf6-4622-f059-869fa1492ed5"
      },
      "execution_count": 41,
      "outputs": [
        {
          "output_type": "stream",
          "name": "stdout",
          "text": [
            "Weight of first layer [[ 0.05032081 -0.00681308  0.01810563 ... -0.02662967  0.00244634\n",
            "  -0.01765324]\n",
            " [ 0.03460915  0.04185294  0.02658738 ... -0.02626161 -0.02502279\n",
            "   0.03140247]\n",
            " [ 0.01205004  0.00889093  0.06079138 ...  0.00601303 -0.02245442\n",
            "   0.0645251 ]\n",
            " ...\n",
            " [-0.03206479 -0.00587906  0.05109943 ...  0.03414789 -0.04694318\n",
            "   0.02202757]\n",
            " [-0.02546689  0.01508143  0.03031618 ...  0.02701813 -0.0370659\n",
            "  -0.01070907]\n",
            " [ 0.02657254  0.00703486  0.00495518 ... -0.01469408 -0.09033346\n",
            "  -0.04588067]]\n",
            "Weight of second layer [-0.01225209  0.03126687 -0.05516968  0.07667633 -0.08324642 -0.122612\n",
            "  0.07987445 -0.09562775 -0.05315847  0.02319363  0.03746861 -0.1240321\n",
            " -0.08188917  0.03179197  0.0900816   0.08557139  0.05075823  0.02270477\n",
            "  0.08163333 -0.01053197  0.02886796 -0.02338552  0.05747594 -0.07324998\n",
            "  0.06022724 -0.06196483  0.01436855  0.09132431  0.1037231  -0.02429033\n",
            "  0.05331102 -0.06395     0.03548276  0.1036825   0.01371497  0.01111478\n",
            "  0.07225683  0.00857658 -0.05248006  0.00237534 -0.08063038 -0.03288292\n",
            " -0.00569462 -0.09993497 -0.01667928  0.10568369 -0.06608688  0.02635158\n",
            "  0.07256241  0.06063563]\n"
          ]
        }
      ]
    },
    {
      "cell_type": "code",
      "source": [
        "fig, ax = plt.subplots(figsize=(5,5))\n",
        "ax.plot(history3.history['loss'], label=\"loss\")\n",
        "ax.plot(history3.history['accuracy'], label='accuracy')\n",
        "ax.plot(history3.history['val_accuracy'], label='val_accuracy')\n",
        "ax.plot(history3.history['val_loss'], label='val_loss')\n",
        "ax.legend([\"loss\",\"accuracy\", \"val_accuracy\", \"val_loss\"])"
      ],
      "metadata": {
        "colab": {
          "base_uri": "https://localhost:8080/",
          "height": 465
        },
        "id": "_S_ppBBblx5u",
        "outputId": "ca04353c-91cc-4136-d0e3-e540f27ec6a0"
      },
      "execution_count": 42,
      "outputs": [
        {
          "output_type": "execute_result",
          "data": {
            "text/plain": [
              "[<matplotlib.lines.Line2D at 0x7e993bce4070>]"
            ]
          },
          "metadata": {},
          "execution_count": 42
        },
        {
          "output_type": "display_data",
          "data": {
            "text/plain": [
              "<Figure size 500x500 with 1 Axes>"
            ],
            "image/png": "[encoded data removed]"
          },
          "metadata": {}
        }
      ]
    },
    {
      "cell_type": "code",
      "source": [],
      "metadata": {
        "id": "APNkC0mWmDuK"
      },
      "execution_count": null,
      "outputs": []
    },
    {
      "cell_type": "markdown",
      "source": [
        "# Batch_normalization\n"
      ],
      "metadata": {
        "id": "lv4kUBYUmek4"
      }
    },
    {
      "cell_type": "code",
      "source": [
        "model4 = keras.models.Sequential()\n",
        "model4.add(keras.layers.Flatten(input_shape=[32,32,3]))\n",
        "model4.add(keras.layers.BatchNormalization())\n",
        "model4.add(keras.layers.Dense(50))\n",
        "model4.add(keras.layers.BatchNormalization())\n",
        "model4.add(keras.layers.Activation(\"selu\"))\n",
        "model4.add(keras.layers.Dense(50))\n",
        "model4.add(keras.layers.BatchNormalization())\n",
        "model4.add(keras.layers.Activation(\"selu\"))\n",
        "model4.add(keras.layers.Dense(10, activation='softmax'))\n"
      ],
      "metadata": {
        "colab": {
          "base_uri": "https://localhost:8080/"
        },
        "id": "bUYToi2smi3c",
        "outputId": "07e4ae19-8943-4c20-e9bb-adb8d7b833d1"
      },
      "execution_count": 49,
      "outputs": [
        {
          "output_type": "stream",
          "name": "stderr",
          "text": [
            "/usr/local/lib/python3.10/dist-packages/keras/src/layers/reshaping/flatten.py:37: UserWarning: Do not pass an `input_shape`/`input_dim` argument to a layer. When using Sequential models, prefer using an `Input(shape)` object as the first layer in the model instead.\n",
            "  super().__init__(**kwargs)\n"
          ]
        }
      ]
    },
    {
      "cell_type": "code",
      "source": [
        "model4.compile(optimizer='sgd',loss='sparse_categorical_crossentropy',metrics=['accuracy'],)"
      ],
      "metadata": {
        "id": "gDu50qegmyHs"
      },
      "execution_count": 50,
      "outputs": []
    },
    {
      "cell_type": "code",
      "source": [
        "history4 =  model4.fit(x_train/255,y_train,epochs=20,validation_split=0.25)"
      ],
      "metadata": {
        "colab": {
          "base_uri": "https://localhost:8080/"
        },
        "id": "M1usodpOm1D4",
        "outputId": "462a00aa-2a95-4765-8281-eaab81895561"
      },
      "execution_count": 51,
      "outputs": [
        {
          "output_type": "stream",
          "name": "stdout",
          "text": [
            "Epoch 1/20\n",
            "\u001b[1m1172/1172\u001b[0m \u001b[32m━━━━━━━━━━━━━━━━━━━━\u001b[0m\u001b[37m\u001b[0m \u001b[1m6s\u001b[0m 4ms/step - accuracy: 0.3231 - loss: 1.9368 - val_accuracy: 0.3981 - val_loss: 1.7270\n",
            "Epoch 2/20\n",
            "\u001b[1m1172/1172\u001b[0m \u001b[32m━━━━━━━━━━━━━━━━━━━━\u001b[0m\u001b[37m\u001b[0m \u001b[1m3s\u001b[0m 3ms/step - accuracy: 0.4022 - loss: 1.7018 - val_accuracy: 0.4179 - val_loss: 1.6759\n",
            "Epoch 3/20\n",
            "\u001b[1m1172/1172\u001b[0m \u001b[32m━━━━━━━━━━━━━━━━━━━━\u001b[0m\u001b[37m\u001b[0m \u001b[1m3s\u001b[0m 2ms/step - accuracy: 0.4255 - loss: 1.6401 - val_accuracy: 0.4212 - val_loss: 1.6416\n",
            "Epoch 4/20\n",
            "\u001b[1m1172/1172\u001b[0m \u001b[32m━━━━━━━━━━━━━━━━━━━━\u001b[0m\u001b[37m\u001b[0m \u001b[1m5s\u001b[0m 2ms/step - accuracy: 0.4417 - loss: 1.6011 - val_accuracy: 0.4314 - val_loss: 1.6124\n",
            "Epoch 5/20\n",
            "\u001b[1m1172/1172\u001b[0m \u001b[32m━━━━━━━━━━━━━━━━━━━━\u001b[0m\u001b[37m\u001b[0m \u001b[1m4s\u001b[0m 3ms/step - accuracy: 0.4504 - loss: 1.5689 - val_accuracy: 0.4450 - val_loss: 1.5938\n",
            "Epoch 6/20\n",
            "\u001b[1m1172/1172\u001b[0m \u001b[32m━━━━━━━━━━━━━━━━━━━━\u001b[0m\u001b[37m\u001b[0m \u001b[1m3s\u001b[0m 2ms/step - accuracy: 0.4642 - loss: 1.5339 - val_accuracy: 0.4531 - val_loss: 1.5707\n",
            "Epoch 7/20\n",
            "\u001b[1m1172/1172\u001b[0m \u001b[32m━━━━━━━━━━━━━━━━━━━━\u001b[0m\u001b[37m\u001b[0m \u001b[1m3s\u001b[0m 2ms/step - accuracy: 0.4713 - loss: 1.5146 - val_accuracy: 0.4575 - val_loss: 1.5502\n",
            "Epoch 8/20\n",
            "\u001b[1m1172/1172\u001b[0m \u001b[32m━━━━━━━━━━━━━━━━━━━━\u001b[0m\u001b[37m\u001b[0m \u001b[1m3s\u001b[0m 2ms/step - accuracy: 0.4774 - loss: 1.4894 - val_accuracy: 0.4622 - val_loss: 1.5400\n",
            "Epoch 9/20\n",
            "\u001b[1m1172/1172\u001b[0m \u001b[32m━━━━━━━━━━━━━━━━━━━━\u001b[0m\u001b[37m\u001b[0m \u001b[1m3s\u001b[0m 2ms/step - accuracy: 0.4874 - loss: 1.4750 - val_accuracy: 0.4617 - val_loss: 1.5283\n",
            "Epoch 10/20\n",
            "\u001b[1m1172/1172\u001b[0m \u001b[32m━━━━━━━━━━━━━━━━━━━━\u001b[0m\u001b[37m\u001b[0m \u001b[1m5s\u001b[0m 2ms/step - accuracy: 0.4867 - loss: 1.4573 - val_accuracy: 0.4616 - val_loss: 1.5233\n",
            "Epoch 11/20\n",
            "\u001b[1m1172/1172\u001b[0m \u001b[32m━━━━━━━━━━━━━━━━━━━━\u001b[0m\u001b[37m\u001b[0m \u001b[1m5s\u001b[0m 2ms/step - accuracy: 0.4984 - loss: 1.4401 - val_accuracy: 0.4695 - val_loss: 1.5080\n",
            "Epoch 12/20\n",
            "\u001b[1m1172/1172\u001b[0m \u001b[32m━━━━━━━━━━━━━━━━━━━━\u001b[0m\u001b[37m\u001b[0m \u001b[1m3s\u001b[0m 3ms/step - accuracy: 0.5017 - loss: 1.4209 - val_accuracy: 0.4692 - val_loss: 1.5150\n",
            "Epoch 13/20\n",
            "\u001b[1m1172/1172\u001b[0m \u001b[32m━━━━━━━━━━━━━━━━━━━━\u001b[0m\u001b[37m\u001b[0m \u001b[1m4s\u001b[0m 2ms/step - accuracy: 0.5111 - loss: 1.3959 - val_accuracy: 0.4727 - val_loss: 1.5006\n",
            "Epoch 14/20\n",
            "\u001b[1m1172/1172\u001b[0m \u001b[32m━━━━━━━━━━━━━━━━━━━━\u001b[0m\u001b[37m\u001b[0m \u001b[1m5s\u001b[0m 2ms/step - accuracy: 0.5115 - loss: 1.3899 - val_accuracy: 0.4765 - val_loss: 1.4884\n",
            "Epoch 15/20\n",
            "\u001b[1m1172/1172\u001b[0m \u001b[32m━━━━━━━━━━━━━━━━━━━━\u001b[0m\u001b[37m\u001b[0m \u001b[1m3s\u001b[0m 3ms/step - accuracy: 0.5118 - loss: 1.3857 - val_accuracy: 0.4795 - val_loss: 1.4890\n",
            "Epoch 16/20\n",
            "\u001b[1m1172/1172\u001b[0m \u001b[32m━━━━━━━━━━━━━━━━━━━━\u001b[0m\u001b[37m\u001b[0m \u001b[1m3s\u001b[0m 2ms/step - accuracy: 0.5220 - loss: 1.3672 - val_accuracy: 0.4878 - val_loss: 1.4783\n",
            "Epoch 17/20\n",
            "\u001b[1m1172/1172\u001b[0m \u001b[32m━━━━━━━━━━━━━━━━━━━━\u001b[0m\u001b[37m\u001b[0m \u001b[1m3s\u001b[0m 2ms/step - accuracy: 0.5208 - loss: 1.3584 - val_accuracy: 0.4852 - val_loss: 1.4754\n",
            "Epoch 18/20\n",
            "\u001b[1m1172/1172\u001b[0m \u001b[32m━━━━━━━━━━━━━━━━━━━━\u001b[0m\u001b[37m\u001b[0m \u001b[1m3s\u001b[0m 2ms/step - accuracy: 0.5287 - loss: 1.3388 - val_accuracy: 0.4698 - val_loss: 1.5169\n",
            "Epoch 19/20\n",
            "\u001b[1m1172/1172\u001b[0m \u001b[32m━━━━━━━━━━━━━━━━━━━━\u001b[0m\u001b[37m\u001b[0m \u001b[1m3s\u001b[0m 3ms/step - accuracy: 0.5340 - loss: 1.3373 - val_accuracy: 0.4859 - val_loss: 1.4684\n",
            "Epoch 20/20\n",
            "\u001b[1m1172/1172\u001b[0m \u001b[32m━━━━━━━━━━━━━━━━━━━━\u001b[0m\u001b[37m\u001b[0m \u001b[1m5s\u001b[0m 2ms/step - accuracy: 0.5333 - loss: 1.3234 - val_accuracy: 0.4874 - val_loss: 1.4683\n"
          ]
        }
      ]
    },
    {
      "cell_type": "code",
      "source": [
        "print(\"Weight of first layer\",model4.get_weights()[0])\n",
        "print(\"Weight of second layer\",model4.get_weights()[1])"
      ],
      "metadata": {
        "colab": {
          "base_uri": "https://localhost:8080/"
        },
        "id": "7J7bVY1pm5Y7",
        "outputId": "59735f3b-2d7b-4173-eb4e-705beb2d26d1"
      },
      "execution_count": 52,
      "outputs": [
        {
          "output_type": "stream",
          "name": "stdout",
          "text": [
            "Weight of first layer [1.0027817 1.0043422 1.0344697 ... 1.0031083 1.0070463 1.0122912]\n",
            "Weight of second layer [-9.2350398e-11 -7.7494450e-10 -2.1603617e-09 ...  7.9831813e-10\n",
            " -5.3024061e-11  4.2391093e-10]\n"
          ]
        }
      ]
    },
    {
      "cell_type": "code",
      "source": [
        "fig, ax = plt.subplots(figsize=(5,5))\n",
        "ax.plot(history4.history['loss'], label=\"loss\")\n",
        "ax.plot(history4.history['accuracy'], label='accuracy')\n",
        "ax.plot(history4.history['val_accuracy'], label='val_accuracy')\n",
        "ax.plot(history4.history['val_loss'], label='val_loss')\n",
        "ax.legend([\"loss\",\"accuracy\", \"val_accuracy\", \"val_loss\"])"
      ],
      "metadata": {
        "colab": {
          "base_uri": "https://localhost:8080/",
          "height": 462
        },
        "id": "4pxp4HvHnAZC",
        "outputId": "7d46102c-19e7-48cc-b452-44debbad5d37"
      },
      "execution_count": 54,
      "outputs": [
        {
          "output_type": "execute_result",
          "data": {
            "text/plain": [
              "<matplotlib.legend.Legend at 0x7e994d5c6da0>"
            ]
          },
          "metadata": {},
          "execution_count": 54
        },
        {
          "output_type": "display_data",
          "data": {
            "text/plain": [
              "<Figure size 500x500 with 1 Axes>"
            ],
            "image/png": "[encoded data removed]"
          },
          "metadata": {}
        }
      ]
    },
    {
      "cell_type": "code",
      "source": [],
      "metadata": {
        "id": "uCcXQ8kCnXOa"
      },
      "execution_count": null,
      "outputs": []
    }
  ]
}